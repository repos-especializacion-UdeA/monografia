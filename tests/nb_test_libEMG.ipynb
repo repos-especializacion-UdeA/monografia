{
 "cells": [
  {
   "cell_type": "markdown",
   "id": "9fda2de7",
   "metadata": {},
   "source": [
    "## Ensayos usando la libreria libEMG"
   ]
  },
  {
   "cell_type": "markdown",
   "id": "fb156478",
   "metadata": {},
   "source": [
    "## Sobre la libreria\n",
    "\n",
    "* **Paper**: LibEMG: An Open Source Library to Facilitate the Exploration of Myoelectric Control ([link](https://ieeexplore.ieee.org/stamp/stamp.jsp?tp=&arnumber=10214558))\n",
    "* **Repo**: https://github.com/LibEMG/libemg\n",
    "\n",
    "Modulos: \n",
    "1. Data Handling\n",
    "2. Filtering\n",
    "3. Feature Extraction\n",
    "4. Feature Selection\n",
    "5. Classification\n",
    "6. Evaluation"
   ]
  },
  {
   "cell_type": "markdown",
   "id": "6ca68c09",
   "metadata": {},
   "source": [
    "En teoria la libreria se logro instalar con exito."
   ]
  },
  {
   "cell_type": "markdown",
   "id": "d9a8fb21",
   "metadata": {},
   "source": [
    "Instalar para evitar warnings\n",
    "\n",
    "```\n",
    "pip install --upgrade paramiko\n",
    "pip install --upgrade cryptography\n",
    "```\n",
    "\n",
    "Con eso ya no salen las advertencias."
   ]
  },
  {
   "cell_type": "code",
   "execution_count": 9,
   "id": "ce436a13",
   "metadata": {},
   "outputs": [
    {
     "name": "stdout",
     "output_type": "stream",
     "text": [
      "La librería 'libEMG' está instalada y se ha importado correctamente.\n"
     ]
    }
   ],
   "source": [
    "try:\n",
    "    import libemg\n",
    "    print(\"La librería 'libEMG' está instalada y se ha importado correctamente.\")\n",
    "except ImportError:\n",
    "    print(\"La librería 'libEMG' no está instalada.\")"
   ]
  },
  {
   "cell_type": "markdown",
   "id": "50efa2a1",
   "metadata": {},
   "source": [
    "Se importa el dataset a analizar mediante el OfflineDataHandler."
   ]
  },
  {
   "cell_type": "code",
   "execution_count": 2,
   "id": "a8bde552",
   "metadata": {},
   "outputs": [],
   "source": [
    "from libemg.datasets import *"
   ]
  },
  {
   "cell_type": "code",
   "execution_count": 3,
   "id": "3efdbb45",
   "metadata": {},
   "outputs": [
    {
     "data": {
      "text/plain": [
       "{'OneSubjectMyo': libemg._datasets.one_subject_myo.OneSubjectMyoDataset,\n",
       " '3DC': libemg._datasets._3DC._3DCDataset,\n",
       " 'MinimalTrainingData': libemg._datasets.ciil.CIIL_MinimalData,\n",
       " 'ElectrodeShift': libemg._datasets.ciil.CIIL_ElectrodeShift,\n",
       " 'GRABMyoBaseline': libemg._datasets.grab_myo.GRABMyoBaseline,\n",
       " 'GRABMyoCrossDay': libemg._datasets.grab_myo.GRABMyoCrossDay,\n",
       " 'ContinuousTransitions': libemg._datasets.continous_transitions.ContinuousTransitions,\n",
       " 'NinaProDB2': libemg._datasets.nina_pro.NinaproDB2,\n",
       " 'FORS-EMG': libemg._datasets.fors_emg.FORSEMG,\n",
       " 'EMGEPN612': libemg._datasets.emg_epn612.EMGEPN_UserDependent,\n",
       " 'ContractionIntensity': libemg._datasets.intensity.ContractionIntensity,\n",
       " 'RadmandLP': libemg._datasets.radmand_lp.RadmandLP,\n",
       " 'FougnerLP': libemg._datasets.fougner_lp.FougnerLP,\n",
       " 'KaufmannMD': libemg._datasets.kaufmann_md.KaufmannMD,\n",
       " 'TMR_Post': libemg._datasets.tmr_shirleyryanabilitylab.TMR_Post,\n",
       " 'TMR_Pre': libemg._datasets.tmr_shirleyryanabilitylab.TMR_Pre,\n",
       " 'HyserPR': libemg._datasets.hyser.HyserPR}"
      ]
     },
     "execution_count": 3,
     "metadata": {},
     "output_type": "execute_result"
    }
   ],
   "source": [
    "datasets = get_dataset_list()\n",
    "datasets"
   ]
  },
  {
   "cell_type": "code",
   "execution_count": 4,
   "id": "cb73cc1e",
   "metadata": {},
   "outputs": [
    {
     "name": "stdout",
     "output_type": "stream",
     "text": [
      "NinaProb DB2.\n",
      "Sampling Rate: 2000\n",
      "Number of Channels: 12\n",
      "Device: Delsys\n",
      "Gestures: {0: 'See Exercises B and C from: https://ninapro.hevs.ch/instructions/DB2.html'}\n",
      "Number of Reps: 4 Train, 2 Test\n",
      "Number of Subjects: 40\n",
      "Citation: https://ninapro.hevs.ch/\n"
     ]
    }
   ],
   "source": [
    "get_dataset_info('NinaProDB2')"
   ]
  },
  {
   "cell_type": "markdown",
   "id": "ee14f1ca",
   "metadata": {},
   "source": [
    "Se puede mirar si podemos hacer lo mismo con el dataset Ninapro DB1: \n",
    "* https://libemg.github.io/libemg/examples/simple_offline_example/simple_offline_example.html\n",
    "* https://libemg.github.io/libemg/documentation/data/data.html#offline-data-handler"
   ]
  },
  {
   "cell_type": "code",
   "execution_count": 5,
   "id": "3b37dd79",
   "metadata": {},
   "outputs": [],
   "source": [
    "from libemg.datasets import NinaproDB2\n",
    "dataset_Ninapro_DB2 = NinaproDB2()"
   ]
  },
  {
   "cell_type": "code",
   "execution_count": 6,
   "id": "ddde5b81",
   "metadata": {},
   "outputs": [
    {
     "name": "stdout",
     "output_type": "stream",
     "text": [
      "NinaProb DB2.\n",
      "Sampling Rate: 2000\n",
      "Number of Channels: 12\n",
      "Device: Delsys\n",
      "Gestures: {0: 'See Exercises B and C from: https://ninapro.hevs.ch/instructions/DB2.html'}\n",
      "Number of Reps: 4 Train, 2 Test\n",
      "Number of Subjects: 40\n",
      "Citation: https://ninapro.hevs.ch/\n"
     ]
    }
   ],
   "source": [
    "dataset_Ninapro_DB2.get_info()"
   ]
  },
  {
   "cell_type": "markdown",
   "id": "85fe27f9",
   "metadata": {},
   "source": [
    "Codigo de descarga"
   ]
  },
  {
   "cell_type": "code",
   "execution_count": 54,
   "id": "80208a90",
   "metadata": {},
   "outputs": [],
   "source": [
    "import os\n",
    "import requests\n",
    "from tqdm import tqdm\n",
    "import os\n",
    "import zipfile\n",
    "import scipy.io\n",
    "import pandas as pd"
   ]
  },
  {
   "cell_type": "code",
   "execution_count": null,
   "id": "844552e8",
   "metadata": {},
   "outputs": [],
   "source": [
    "def create_directory(path: str) -> None:\n",
    "    \"\"\"\n",
    "    Crea un directorio si no existe.\n",
    "\n",
    "    :param path: Ruta del directorio a crear.\n",
    "    \"\"\"\n",
    "    os.makedirs(path, exist_ok=True)\n",
    "\n",
    "\n",
    "def download_file(url: str, output_path: str) -> None:\n",
    "    \"\"\"\n",
    "    Descarga un archivo desde una URL y lo guarda en la ruta especificada.\n",
    "\n",
    "    :param url: URL completa del archivo a descargar.\n",
    "    :param output_path: Ruta local donde se guardará el archivo.\n",
    "    \"\"\"\n",
    "    try:\n",
    "        response = requests.get(url, stream=True, timeout=10)\n",
    "        if response.status_code == 200:\n",
    "            with open(output_path, 'wb') as f:\n",
    "                for chunk in tqdm(response.iter_content(chunk_size=1024), desc=os.path.basename(output_path), unit='KB'):\n",
    "                    if chunk:\n",
    "                        f.write(chunk)\n",
    "            print(f'Descarga completa: {os.path.basename(output_path)}')\n",
    "        else:\n",
    "            print(f'Archivo no encontrado en: {url}')\n",
    "    except requests.exceptions.RequestException as e:\n",
    "        print(f'Error al descargar {os.path.basename(output_path)}: {e}')\n",
    "\n",
    "def extract_all_zip_files(zip_dir: str, extract_dir: str) -> None:\n",
    "    \"\"\"\n",
    "    Extrae todos los archivos .zip de un directorio a subcarpetas organizadas.\n",
    "\n",
    "    :param zip_dir: Directorio donde están los archivos .zip\n",
    "    :param extract_dir: Directorio donde se extraerán los archivos\n",
    "    \"\"\"\n",
    "    create_directory(extract_dir)\n",
    "\n",
    "    zip_files = [f for f in os.listdir(zip_dir) if f.endswith('.zip')]\n",
    "\n",
    "    for zip_file in zip_files:\n",
    "        zip_path = os.path.join(zip_dir, zip_file)\n",
    "        subject_folder = os.path.join(extract_dir, zip_file.replace('.zip', ''))\n",
    "\n",
    "        if os.path.exists(subject_folder):\n",
    "            print(f'{subject_folder} ya extraído. Omitiendo.')\n",
    "            continue\n",
    "\n",
    "        print(f'Extrayendo {zip_file}...')\n",
    "        create_directory(subject_folder)\n",
    "\n",
    "        with zipfile.ZipFile(zip_path, 'r') as zip_ref:\n",
    "            zip_ref.extractall(subject_folder)\n",
    "\n",
    "        print(f'Extracción completa: {subject_folder}')\n"
   ]
  },
  {
   "cell_type": "code",
   "execution_count": null,
   "id": "973d7797",
   "metadata": {},
   "outputs": [],
   "source": [
    "def download_ninapro_dataset(db_name: str,\n",
    "                              data_type: str = None,\n",
    "                              start: int = 1,\n",
    "                              end: int = 40,\n",
    "                              output_dir: str = None) -> None:\n",
    "    \"\"\"\n",
    "    Descarga archivos sX.zip de cualquier base de datos Ninapro. (OJO: Actualizar a DBX_zzz)\n",
    "\n",
    "    :param db_name: Nombre de la base de datos (Ejemplo: 'DB1', 'DB2', 'DB3').\n",
    "    :param data_type: Tipo de datos a descargar ('Preproc' o 'Raw').\n",
    "    :param start: Número inicial de archivo a descargar (por defecto 1).\n",
    "    :param end: Número final de archivo a descargar (por defecto 40).\n",
    "    :param output_dir: Carpeta local donde se guardarán los archivos. Si no se indica, se crea automáticamente.\n",
    "    \"\"\"\n",
    "    # assert data_type in ['Preproc', 'Raw'], \"data_type debe ser 'Preproc' o 'Raw'\"\n",
    "\n",
    "    base_url = f'https://ninapro.hevs.ch/files/{db_name}/{data_type}/'\n",
    "    print(base_url)\n",
    "\n",
    "    if output_dir is None:\n",
    "        output_dir = f'ninapro_{db_name}_{data_type}'\n",
    "    \n",
    "    create_directory(output_dir)\n",
    "\n",
    "    for i in range(start, end + 1):\n",
    "        file_name = f's{i}.zip'\n",
    "        output_path = os.path.join(output_dir, file_name)\n",
    "\n",
    "        if os.path.exists(output_path):\n",
    "            print(f'{file_name} ya existe. Descarga omitida.')\n",
    "            continue\n",
    "\n",
    "        file_url = base_url + file_name\n",
    "        print(f'Descargando {file_name}...')\n",
    "        download_file(file_url, output_path)"
   ]
  },
  {
   "cell_type": "code",
   "execution_count": null,
   "id": "473d22a9",
   "metadata": {},
   "outputs": [
    {
     "name": "stdout",
     "output_type": "stream",
     "text": [
      "https://ninapro.hevs.ch/files/DB1/Preprocessed/\n",
      "Descargando s1.zip...\n"
     ]
    },
    {
     "name": "stderr",
     "output_type": "stream",
     "text": [
      "s1.zip: 20207KB [00:05, 3576.33KB/s]\n"
     ]
    },
    {
     "name": "stdout",
     "output_type": "stream",
     "text": [
      "Descarga completa: s1.zip\n",
      "Descargando s2.zip...\n"
     ]
    },
    {
     "name": "stderr",
     "output_type": "stream",
     "text": [
      "s2.zip: 25178KB [00:07, 3157.25KB/s]\n"
     ]
    },
    {
     "name": "stdout",
     "output_type": "stream",
     "text": [
      "Descarga completa: s2.zip\n",
      "Descargando s3.zip...\n"
     ]
    },
    {
     "name": "stderr",
     "output_type": "stream",
     "text": [
      "s3.zip: 22588KB [00:07, 2903.73KB/s]\n"
     ]
    },
    {
     "name": "stdout",
     "output_type": "stream",
     "text": [
      "Descarga completa: s3.zip\n",
      "Descargando s4.zip...\n"
     ]
    },
    {
     "name": "stderr",
     "output_type": "stream",
     "text": [
      "s4.zip: 20760KB [00:04, 4883.48KB/s]\n"
     ]
    },
    {
     "name": "stdout",
     "output_type": "stream",
     "text": [
      "Descarga completa: s4.zip\n",
      "Descargando s5.zip...\n"
     ]
    },
    {
     "name": "stderr",
     "output_type": "stream",
     "text": [
      "s5.zip: 30111KB [00:10, 2769.21KB/s]\n"
     ]
    },
    {
     "name": "stdout",
     "output_type": "stream",
     "text": [
      "Descarga completa: s5.zip\n",
      "Descargando s6.zip...\n"
     ]
    },
    {
     "name": "stderr",
     "output_type": "stream",
     "text": [
      "s6.zip: 23950KB [00:25, 928.54KB/s] \n"
     ]
    },
    {
     "name": "stdout",
     "output_type": "stream",
     "text": [
      "Descarga completa: s6.zip\n",
      "Descargando s7.zip...\n"
     ]
    },
    {
     "name": "stderr",
     "output_type": "stream",
     "text": [
      "s7.zip: 23520KB [00:07, 3010.36KB/s]\n"
     ]
    },
    {
     "name": "stdout",
     "output_type": "stream",
     "text": [
      "Descarga completa: s7.zip\n",
      "Descargando s8.zip...\n"
     ]
    },
    {
     "name": "stderr",
     "output_type": "stream",
     "text": [
      "s8.zip: 19757KB [00:04, 4164.80KB/s]\n"
     ]
    },
    {
     "name": "stdout",
     "output_type": "stream",
     "text": [
      "Descarga completa: s8.zip\n",
      "Descargando s9.zip...\n"
     ]
    },
    {
     "name": "stderr",
     "output_type": "stream",
     "text": [
      "s9.zip: 19510KB [00:05, 3605.91KB/s]\n"
     ]
    },
    {
     "name": "stdout",
     "output_type": "stream",
     "text": [
      "Descarga completa: s9.zip\n",
      "Descargando s10.zip...\n"
     ]
    },
    {
     "name": "stderr",
     "output_type": "stream",
     "text": [
      "s10.zip: 23126KB [00:07, 3150.72KB/s]\n"
     ]
    },
    {
     "name": "stdout",
     "output_type": "stream",
     "text": [
      "Descarga completa: s10.zip\n",
      "Descargando s11.zip...\n"
     ]
    },
    {
     "name": "stderr",
     "output_type": "stream",
     "text": [
      "s11.zip: 23703KB [00:05, 4466.52KB/s]\n"
     ]
    },
    {
     "name": "stdout",
     "output_type": "stream",
     "text": [
      "Descarga completa: s11.zip\n",
      "Descargando s12.zip...\n"
     ]
    },
    {
     "name": "stderr",
     "output_type": "stream",
     "text": [
      "s12.zip: 23209KB [00:05, 3888.03KB/s]\n"
     ]
    },
    {
     "name": "stdout",
     "output_type": "stream",
     "text": [
      "Descarga completa: s12.zip\n",
      "Descargando s13.zip...\n"
     ]
    },
    {
     "name": "stderr",
     "output_type": "stream",
     "text": [
      "s13.zip: 19807KB [00:04, 4637.22KB/s]\n"
     ]
    },
    {
     "name": "stdout",
     "output_type": "stream",
     "text": [
      "Descarga completa: s13.zip\n",
      "Descargando s14.zip...\n"
     ]
    },
    {
     "name": "stderr",
     "output_type": "stream",
     "text": [
      "s14.zip: 22955KB [00:07, 2993.57KB/s]\n"
     ]
    },
    {
     "name": "stdout",
     "output_type": "stream",
     "text": [
      "Descarga completa: s14.zip\n",
      "Descargando s15.zip...\n"
     ]
    },
    {
     "name": "stderr",
     "output_type": "stream",
     "text": [
      "s15.zip: 22637KB [00:05, 4450.58KB/s]\n"
     ]
    },
    {
     "name": "stdout",
     "output_type": "stream",
     "text": [
      "Descarga completa: s15.zip\n",
      "Descargando s16.zip...\n"
     ]
    },
    {
     "name": "stderr",
     "output_type": "stream",
     "text": [
      "s16.zip: 23596KB [00:08, 2666.95KB/s]\n"
     ]
    },
    {
     "name": "stdout",
     "output_type": "stream",
     "text": [
      "Descarga completa: s16.zip\n",
      "Descargando s17.zip...\n"
     ]
    },
    {
     "name": "stderr",
     "output_type": "stream",
     "text": [
      "s17.zip: 24551KB [00:08, 2932.32KB/s]\n"
     ]
    },
    {
     "name": "stdout",
     "output_type": "stream",
     "text": [
      "Descarga completa: s17.zip\n",
      "Descargando s18.zip...\n"
     ]
    },
    {
     "name": "stderr",
     "output_type": "stream",
     "text": [
      "s18.zip: 25307KB [00:04, 5134.66KB/s]\n"
     ]
    },
    {
     "name": "stdout",
     "output_type": "stream",
     "text": [
      "Descarga completa: s18.zip\n",
      "Descargando s19.zip...\n"
     ]
    },
    {
     "name": "stderr",
     "output_type": "stream",
     "text": [
      "s19.zip: 23026KB [00:03, 5982.86KB/s]\n"
     ]
    },
    {
     "name": "stdout",
     "output_type": "stream",
     "text": [
      "Descarga completa: s19.zip\n",
      "Descargando s20.zip...\n"
     ]
    },
    {
     "name": "stderr",
     "output_type": "stream",
     "text": [
      "s20.zip: 22502KB [00:19, 1158.94KB/s]\n"
     ]
    },
    {
     "name": "stdout",
     "output_type": "stream",
     "text": [
      "Descarga completa: s20.zip\n",
      "Descargando s21.zip...\n"
     ]
    },
    {
     "name": "stderr",
     "output_type": "stream",
     "text": [
      "s21.zip: 21013KB [00:03, 5382.03KB/s]\n"
     ]
    },
    {
     "name": "stdout",
     "output_type": "stream",
     "text": [
      "Descarga completa: s21.zip\n",
      "Descargando s22.zip...\n"
     ]
    },
    {
     "name": "stderr",
     "output_type": "stream",
     "text": [
      "s22.zip: 21225KB [00:07, 2943.95KB/s]\n"
     ]
    },
    {
     "name": "stdout",
     "output_type": "stream",
     "text": [
      "Descarga completa: s22.zip\n",
      "Descargando s23.zip...\n"
     ]
    },
    {
     "name": "stderr",
     "output_type": "stream",
     "text": [
      "s23.zip: 25362KB [00:04, 6081.92KB/s]\n"
     ]
    },
    {
     "name": "stdout",
     "output_type": "stream",
     "text": [
      "Descarga completa: s23.zip\n",
      "Descargando s24.zip...\n"
     ]
    },
    {
     "name": "stderr",
     "output_type": "stream",
     "text": [
      "s24.zip: 25912KB [00:06, 3971.27KB/s]\n"
     ]
    },
    {
     "name": "stdout",
     "output_type": "stream",
     "text": [
      "Descarga completa: s24.zip\n",
      "Descargando s25.zip...\n"
     ]
    },
    {
     "name": "stderr",
     "output_type": "stream",
     "text": [
      "s25.zip: 23856KB [00:10, 2363.10KB/s]\n"
     ]
    },
    {
     "name": "stdout",
     "output_type": "stream",
     "text": [
      "Descarga completa: s25.zip\n",
      "Descargando s26.zip...\n"
     ]
    },
    {
     "name": "stderr",
     "output_type": "stream",
     "text": [
      "s26.zip: 21790KB [00:06, 3293.50KB/s]\n"
     ]
    },
    {
     "name": "stdout",
     "output_type": "stream",
     "text": [
      "Descarga completa: s26.zip\n",
      "Descargando s27.zip...\n"
     ]
    },
    {
     "name": "stderr",
     "output_type": "stream",
     "text": [
      "s27.zip: 21324KB [00:06, 3456.12KB/s]"
     ]
    },
    {
     "name": "stdout",
     "output_type": "stream",
     "text": [
      "Descarga completa: s27.zip\n"
     ]
    },
    {
     "name": "stderr",
     "output_type": "stream",
     "text": [
      "\n"
     ]
    }
   ],
   "source": [
    "# Se descargo el dataset DB1 \n",
    "download_ninapro_dataset('DB1', 'Preprocessed', 1, 27, 'ninapro_DB1_raw')"
   ]
  },
  {
   "cell_type": "markdown",
   "id": "f0183df5",
   "metadata": {},
   "source": [
    "Funcion que extrae los archivos descargados"
   ]
  },
  {
   "cell_type": "code",
   "execution_count": 25,
   "id": "1dd1f4ef",
   "metadata": {},
   "outputs": [],
   "source": [
    "def extract_all_zip_files(zip_dir: str, extract_dir: str) -> None:\n",
    "    \"\"\"\n",
    "    Extrae todos los archivos .zip de un directorio en subcarpetas con el mismo nombre del archivo.\n",
    "\n",
    "    :param zip_dir: Ruta donde están los archivos .zip.\n",
    "    :param extract_dir: Ruta donde se extraerán los archivos.\n",
    "    \"\"\"\n",
    "    if not os.path.exists(zip_dir):\n",
    "        raise ValueError(f'El directorio {zip_dir} no existe.')\n",
    "\n",
    "    os.makedirs(extract_dir, exist_ok=True)\n",
    "\n",
    "    zip_files = [f for f in os.listdir(zip_dir) if f.endswith('.zip')]\n",
    "\n",
    "    if not zip_files:\n",
    "        print(f'No se encontraron archivos .zip en {zip_dir}')\n",
    "        return\n",
    "\n",
    "    for zip_file in zip_files:\n",
    "        zip_path = os.path.join(zip_dir, zip_file)\n",
    "        folder_name = os.path.splitext(zip_file)[0]\n",
    "        output_path = os.path.join(extract_dir, folder_name)\n",
    "\n",
    "        if os.path.exists(output_path):\n",
    "            print(f'El archivo {zip_file} ya fue extraído. Omitiendo.')\n",
    "            continue\n",
    "\n",
    "        print(f'Extrayendo {zip_file}...')\n",
    "\n",
    "        os.makedirs(output_path, exist_ok=True)\n",
    "\n",
    "        with zipfile.ZipFile(zip_path, 'r') as zip_ref:\n",
    "            zip_ref.extractall(output_path)\n",
    "\n",
    "        print(f'Extracción completa: {output_path}')"
   ]
  },
  {
   "cell_type": "code",
   "execution_count": 26,
   "id": "810abfe3",
   "metadata": {},
   "outputs": [
    {
     "name": "stdout",
     "output_type": "stream",
     "text": [
      "Extrayendo s1.zip...\n",
      "Extracción completa: ninapro_DB1_raw_unzip\\s1\n",
      "Extrayendo s10.zip...\n",
      "Extracción completa: ninapro_DB1_raw_unzip\\s10\n",
      "Extrayendo s11.zip...\n",
      "Extracción completa: ninapro_DB1_raw_unzip\\s11\n",
      "Extrayendo s12.zip...\n",
      "Extracción completa: ninapro_DB1_raw_unzip\\s12\n",
      "Extrayendo s13.zip...\n",
      "Extracción completa: ninapro_DB1_raw_unzip\\s13\n",
      "Extrayendo s14.zip...\n",
      "Extracción completa: ninapro_DB1_raw_unzip\\s14\n",
      "Extrayendo s15.zip...\n",
      "Extracción completa: ninapro_DB1_raw_unzip\\s15\n",
      "Extrayendo s16.zip...\n",
      "Extracción completa: ninapro_DB1_raw_unzip\\s16\n",
      "Extrayendo s17.zip...\n",
      "Extracción completa: ninapro_DB1_raw_unzip\\s17\n",
      "Extrayendo s18.zip...\n",
      "Extracción completa: ninapro_DB1_raw_unzip\\s18\n",
      "Extrayendo s19.zip...\n",
      "Extracción completa: ninapro_DB1_raw_unzip\\s19\n",
      "Extrayendo s2.zip...\n",
      "Extracción completa: ninapro_DB1_raw_unzip\\s2\n",
      "Extrayendo s20.zip...\n",
      "Extracción completa: ninapro_DB1_raw_unzip\\s20\n",
      "Extrayendo s21.zip...\n",
      "Extracción completa: ninapro_DB1_raw_unzip\\s21\n",
      "Extrayendo s22.zip...\n",
      "Extracción completa: ninapro_DB1_raw_unzip\\s22\n",
      "Extrayendo s23.zip...\n",
      "Extracción completa: ninapro_DB1_raw_unzip\\s23\n",
      "Extrayendo s24.zip...\n",
      "Extracción completa: ninapro_DB1_raw_unzip\\s24\n",
      "Extrayendo s25.zip...\n",
      "Extracción completa: ninapro_DB1_raw_unzip\\s25\n",
      "Extrayendo s26.zip...\n",
      "Extracción completa: ninapro_DB1_raw_unzip\\s26\n",
      "Extrayendo s27.zip...\n",
      "Extracción completa: ninapro_DB1_raw_unzip\\s27\n",
      "Extrayendo s3.zip...\n",
      "Extracción completa: ninapro_DB1_raw_unzip\\s3\n",
      "Extrayendo s4.zip...\n",
      "Extracción completa: ninapro_DB1_raw_unzip\\s4\n",
      "Extrayendo s5.zip...\n",
      "Extracción completa: ninapro_DB1_raw_unzip\\s5\n",
      "Extrayendo s6.zip...\n",
      "Extracción completa: ninapro_DB1_raw_unzip\\s6\n",
      "Extrayendo s7.zip...\n",
      "Extracción completa: ninapro_DB1_raw_unzip\\s7\n",
      "Extrayendo s8.zip...\n",
      "Extracción completa: ninapro_DB1_raw_unzip\\s8\n",
      "Extrayendo s9.zip...\n",
      "Extracción completa: ninapro_DB1_raw_unzip\\s9\n"
     ]
    }
   ],
   "source": [
    "extract_all_zip_files(\n",
    "    zip_dir='ninapro_DB1_raw',               # Directorio donde están los .zip\n",
    "    extract_dir='ninapro_DB1_raw_unzip'  # Carpeta destino para extracción\n",
    ")"
   ]
  },
  {
   "cell_type": "markdown",
   "id": "8503515a",
   "metadata": {},
   "source": [
    "Teniendo en cuenta el siguiente codigo ([link](https://libemg.github.io/libemg/documentation/data/data.html#offline-data-handler)) para generar la busqueda usando la siguiente expresión regular `dataset/train/R_1_C_1_EMG.csv`\n",
    "\n",
    "```py\n",
    "dataset_folder = 'dataset'\n",
    "regex_filters = [\n",
    "    RegexFilter(left_bound = \"dataset/\", right_bound=\"/\", values = sets_values, description='sets'),\n",
    "    RegexFilter(left_bound = \"_C_\", right_bound=\"_EMG.csv\", values = classes_values, description='classes'),\n",
    "    RegexFilter(left_bound = \"R_\", right_bound=\"_C_\", values = reps_values, description='reps')\n",
    "]\n",
    "odh = OfflineDataHandler()\n",
    "odh.get_data(folder_location=dataset_folder, regex_filters=regex_filters, delimiter=\",\")\n",
    "```"
   ]
  },
  {
   "cell_type": "code",
   "execution_count": null,
   "id": "29a73c22",
   "metadata": {},
   "outputs": [],
   "source": [
    "# Función para convertir .mat a .csv\n",
    "def convert_mat_to_csv(input_dir, output_dir):\n",
    "    \"\"\"\n",
    "    Convierte todos los archivos .mat de un directorio a archivos .csv.\n",
    "\n",
    "    Parámetros:\n",
    "        input_dir (str): Ruta de los archivos .mat\n",
    "        output_dir (str): Ruta donde se guardarán los archivos .csv\n",
    "    \"\"\"\n",
    "    os.makedirs(output_dir, exist_ok=True)\n",
    "\n",
    "    for root, dirs, files in os.walk(input_dir):\n",
    "        for file in files:\n",
    "            if file.endswith('.mat'):\n",
    "                mat_path = os.path.join(root, file)\n",
    "                mat_data = scipy.io.loadmat(mat_path)\n",
    "\n",
    "                for key in mat_data:\n",
    "                    print(key)\n",
    "                    if not key.startswith('__'):\n",
    "                        data = mat_data[key]\n",
    "\n",
    "                        if isinstance(data, (list, tuple, dict)):\n",
    "                            continue\n",
    "                        if hasattr(data, 'shape'):\n",
    "                            df = pd.DataFrame(data)\n",
    "                            output_csv = os.path.join(\n",
    "                                output_dir, f'{file.replace(\".mat\", \"\")}_{key}.csv')\n",
    "                            df.to_csv(output_csv, index=False)\n",
    "                            print(f'Guardado: {output_csv}')"
   ]
  },
  {
   "cell_type": "code",
   "execution_count": 60,
   "id": "d00a8ab3",
   "metadata": {},
   "outputs": [],
   "source": [
    "input_dir = 'ninapro_DB1_raw_unzip'\n",
    "output_dir = 'ninapro_DB2_raw_csv'\n",
    "convert_mat_to_csv(input_dir, output_dir)"
   ]
  },
  {
   "cell_type": "code",
   "execution_count": 43,
   "id": "f0f0e570",
   "metadata": {},
   "outputs": [],
   "source": [
    "dataset_folder = 'ninapro_DB1_raw_unzip' "
   ]
  },
  {
   "cell_type": "code",
   "execution_count": 45,
   "id": "2cac1537",
   "metadata": {},
   "outputs": [],
   "source": [
    "# get_metadata('ninapro_DB1_raw_unzip/s1/S1_A1_E1.mat')"
   ]
  },
  {
   "cell_type": "code",
   "execution_count": 42,
   "id": "3b6a6b92",
   "metadata": {},
   "outputs": [
    {
     "data": {
      "text/plain": [
       "['1', '2']"
      ]
     },
     "execution_count": 42,
     "metadata": {},
     "output_type": "execute_result"
    }
   ],
   "source": [
    "from libemg.data_handler import OfflineDataHandler, RegexFilter\n",
    "\n",
    "# dataset/train/R_1_C_1_EMG.csv\n",
    "\n",
    "\n",
    "# C:\\Users\\Usuario\\Documents\\UdeA\\especializacion\\repos\\monografia\\tests\\ninapro_DB1_raw_unzip\\s1\\S1_A1_E1.mat\n",
    "\n",
    "dataset_folder = 'ninapro_DB1_raw_unzip'  # Carpeta donde están los archivos extraídos\n",
    "subject_values = ['1','2'] # Lista de sujetos a filtrar (s1 a s26)\n",
    "rep_values = ['1']\n",
    "exercise_values = ['1', '2', '3']\n",
    "regex_filters = [\n",
    "    # ninapro_DB1_raw_unzip/sx/\n",
    "    RegexFilter(left_bound = \"ninapro_DB1_raw_unzip/s\", right_bound=\"/\", values = subject_values, description='subjects'),\n",
    "    # /Sx_A\n",
    "    RegexFilter(left_bound = \"/S\", right_bound=\"_A\", values = subject_values, description='subjects'),\n",
    "    # Ax_E\n",
    "    RegexFilter(left_bound = \"A\", right_bound=\"_E\", values = rep_values, description='repetition'),\n",
    "    # _Ex.mat\n",
    "    RegexFilter(left_bound = \"_E\", right_bound=\".mat\", values = exercise_values, description='Exercises')    \n",
    "]\n",
    "\n",
    "regex_filters[0].values"
   ]
  },
  {
   "cell_type": "code",
   "execution_count": null,
   "id": "e8b68683",
   "metadata": {},
   "outputs": [
    {
     "ename": "AttributeError",
     "evalue": "'OfflineDataHandler' object has no attribute 'folder_location'",
     "output_type": "error",
     "traceback": [
      "\u001b[1;31m---------------------------------------------------------------------------\u001b[0m",
      "\u001b[1;31mAttributeError\u001b[0m                            Traceback (most recent call last)",
      "Cell \u001b[1;32mIn[36], line 1\u001b[0m\n\u001b[1;32m----> 1\u001b[0m odh\u001b[38;5;241m.\u001b[39mfolder_location\n",
      "\u001b[1;31mAttributeError\u001b[0m: 'OfflineDataHandler' object has no attribute 'folder_location'"
     ]
    }
   ],
   "source": [
    "\n",
    "odh = OfflineDataHandler()\n",
    "odh.get_data(folder_location=dataset_folder, regex_filters=regex_filters, delimiter=\",\")"
   ]
  },
  {
   "cell_type": "code",
   "execution_count": 31,
   "id": "0b0eb9ca",
   "metadata": {},
   "outputs": [
    {
     "data": {
      "text/plain": [
       "[<libemg.data_handler.RegexFilter at 0x1cdfe2bb950>,\n",
       " <libemg.data_handler.RegexFilter at 0x1cd8b5b98b0>,\n",
       " <libemg.data_handler.RegexFilter at 0x1cd8a08e990>]"
      ]
     },
     "execution_count": 31,
     "metadata": {},
     "output_type": "execute_result"
    }
   ],
   "source": [
    "regex_filters"
   ]
  },
  {
   "cell_type": "code",
   "execution_count": 47,
   "id": "92e4162b",
   "metadata": {},
   "outputs": [
    {
     "name": "stdout",
     "output_type": "stream",
     "text": [
      "60 data files fetched out of 61 files.\n"
     ]
    }
   ],
   "source": [
    "from libemg.datasets import OneSubjectMyoDataset\n",
    "\n",
    "WINDOW_SIZE = 20\n",
    "WINDOW_INCREMENT = 10 \n",
    "FEATURE_SET = \"HTD\"\n",
    "\n",
    "# Load in dataset\n",
    "dataset = OneSubjectMyoDataset()\n",
    "data = dataset.prepare_data()"
   ]
  },
  {
   "cell_type": "code",
   "execution_count": 48,
   "id": "168b02a5",
   "metadata": {},
   "outputs": [
    {
     "data": {
      "text/plain": [
       "{'All': <libemg.data_handler.OfflineDataHandler at 0x1cd89e6a5d0>,\n",
       " 'Train': <libemg.data_handler.OfflineDataHandler at 0x1cd88fd4380>,\n",
       " 'Test': <libemg.data_handler.OfflineDataHandler at 0x1cd89e61820>}"
      ]
     },
     "execution_count": 48,
     "metadata": {},
     "output_type": "execute_result"
    }
   ],
   "source": [
    "data"
   ]
  },
  {
   "cell_type": "code",
   "execution_count": null,
   "id": "7f05d417",
   "metadata": {},
   "outputs": [],
   "source": []
  }
 ],
 "metadata": {
  "kernelspec": {
   "display_name": "base",
   "language": "python",
   "name": "python3"
  },
  "language_info": {
   "codemirror_mode": {
    "name": "ipython",
    "version": 3
   },
   "file_extension": ".py",
   "mimetype": "text/x-python",
   "name": "python",
   "nbconvert_exporter": "python",
   "pygments_lexer": "ipython3",
   "version": "3.12.7"
  }
 },
 "nbformat": 4,
 "nbformat_minor": 5
}
