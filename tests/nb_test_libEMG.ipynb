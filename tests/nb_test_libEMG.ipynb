{
 "cells": [
  {
   "cell_type": "markdown",
   "id": "9fda2de7",
   "metadata": {},
   "source": [
    "## Ensayos usando la libreria libEMG"
   ]
  },
  {
   "cell_type": "markdown",
   "id": "fb156478",
   "metadata": {},
   "source": [
    "## Sobre la libreria\n",
    "\n",
    "* **Paper**: LibEMG: An Open Source Library to Facilitate the Exploration of Myoelectric Control ([link](https://ieeexplore.ieee.org/stamp/stamp.jsp?tp=&arnumber=10214558))\n",
    "* **Repo**: https://github.com/LibEMG/libemg\n",
    "\n",
    "Modulos: \n",
    "1. Data Handling\n",
    "2. Filtering\n",
    "3. Feature Extraction\n",
    "4. Feature Selection\n",
    "5. Classification\n",
    "6. Evaluation"
   ]
  },
  {
   "cell_type": "markdown",
   "id": "6ca68c09",
   "metadata": {},
   "source": [
    "En teoria la libreria se logro instalar con exito."
   ]
  },
  {
   "cell_type": "markdown",
   "id": "d9a8fb21",
   "metadata": {},
   "source": [
    "Instalar para evitar warnings\n",
    "\n",
    "```\n",
    "pip install --upgrade paramiko\n",
    "pip install --upgrade cryptography\n",
    "```\n",
    "\n",
    "Con eso ya no salen las advertencias."
   ]
  },
  {
   "cell_type": "code",
   "execution_count": 16,
   "id": "ce436a13",
   "metadata": {},
   "outputs": [
    {
     "name": "stdout",
     "output_type": "stream",
     "text": [
      "La librería 'libEMG' está instalada y se ha importado correctamente.\n"
     ]
    }
   ],
   "source": [
    "try:\n",
    "    import libemg\n",
    "    print(\"La librería 'libEMG' está instalada y se ha importado correctamente.\")\n",
    "except ImportError:\n",
    "    print(\"La librería 'libEMG' no está instalada.\")"
   ]
  },
  {
   "cell_type": "markdown",
   "id": "50efa2a1",
   "metadata": {},
   "source": [
    "Se importa el dataset a analizar mediante el OfflineDataHandler."
   ]
  },
  {
   "cell_type": "code",
   "execution_count": 17,
   "id": "2d2612a2",
   "metadata": {},
   "outputs": [],
   "source": [
    "import os\n",
    "import requests\n",
    "from tqdm import tqdm\n",
    "import os\n",
    "import zipfile\n",
    "import scipy.io\n",
    "import pandas as pd\n",
    "import matplotlib.pyplot as plt"
   ]
  },
  {
   "cell_type": "code",
   "execution_count": 18,
   "id": "a8bde552",
   "metadata": {},
   "outputs": [],
   "source": [
    "from libemg.datasets import *"
   ]
  },
  {
   "cell_type": "code",
   "execution_count": 19,
   "id": "3efdbb45",
   "metadata": {},
   "outputs": [
    {
     "data": {
      "text/plain": [
       "{'OneSubjectMyo': libemg._datasets.one_subject_myo.OneSubjectMyoDataset,\n",
       " '3DC': libemg._datasets._3DC._3DCDataset,\n",
       " 'MinimalTrainingData': libemg._datasets.ciil.CIIL_MinimalData,\n",
       " 'ElectrodeShift': libemg._datasets.ciil.CIIL_ElectrodeShift,\n",
       " 'GRABMyoBaseline': libemg._datasets.grab_myo.GRABMyoBaseline,\n",
       " 'GRABMyoCrossDay': libemg._datasets.grab_myo.GRABMyoCrossDay,\n",
       " 'ContinuousTransitions': libemg._datasets.continous_transitions.ContinuousTransitions,\n",
       " 'NinaProDB2': libemg._datasets.nina_pro.NinaproDB2,\n",
       " 'FORS-EMG': libemg._datasets.fors_emg.FORSEMG,\n",
       " 'EMGEPN612': libemg._datasets.emg_epn612.EMGEPN_UserDependent,\n",
       " 'ContractionIntensity': libemg._datasets.intensity.ContractionIntensity,\n",
       " 'RadmandLP': libemg._datasets.radmand_lp.RadmandLP,\n",
       " 'FougnerLP': libemg._datasets.fougner_lp.FougnerLP,\n",
       " 'KaufmannMD': libemg._datasets.kaufmann_md.KaufmannMD,\n",
       " 'TMR_Post': libemg._datasets.tmr_shirleyryanabilitylab.TMR_Post,\n",
       " 'TMR_Pre': libemg._datasets.tmr_shirleyryanabilitylab.TMR_Pre,\n",
       " 'HyserPR': libemg._datasets.hyser.HyserPR}"
      ]
     },
     "execution_count": 19,
     "metadata": {},
     "output_type": "execute_result"
    }
   ],
   "source": [
    "datasets = get_dataset_list()\n",
    "datasets"
   ]
  },
  {
   "cell_type": "code",
   "execution_count": 20,
   "id": "cb73cc1e",
   "metadata": {},
   "outputs": [
    {
     "name": "stdout",
     "output_type": "stream",
     "text": [
      "NinaProb DB2.\n",
      "Sampling Rate: 2000\n",
      "Number of Channels: 12\n",
      "Device: Delsys\n",
      "Gestures: {0: 'See Exercises B and C from: https://ninapro.hevs.ch/instructions/DB2.html'}\n",
      "Number of Reps: 4 Train, 2 Test\n",
      "Number of Subjects: 40\n",
      "Citation: https://ninapro.hevs.ch/\n"
     ]
    }
   ],
   "source": [
    "get_dataset_info('NinaProDB2')"
   ]
  },
  {
   "cell_type": "markdown",
   "id": "ee14f1ca",
   "metadata": {},
   "source": [
    "Se puede mirar si podemos hacer lo mismo con el dataset Ninapro DB1: \n",
    "* https://libemg.github.io/libemg/examples/simple_offline_example/simple_offline_example.html\n",
    "* https://libemg.github.io/libemg/documentation/data/data.html#offline-data-handler"
   ]
  },
  {
   "cell_type": "code",
   "execution_count": 21,
   "id": "3b37dd79",
   "metadata": {},
   "outputs": [],
   "source": [
    "from libemg.datasets import NinaproDB2\n",
    "dataset_Ninapro_DB2 = NinaproDB2()"
   ]
  },
  {
   "cell_type": "code",
   "execution_count": 22,
   "id": "ddde5b81",
   "metadata": {},
   "outputs": [
    {
     "name": "stdout",
     "output_type": "stream",
     "text": [
      "NinaProb DB2.\n",
      "Sampling Rate: 2000\n",
      "Number of Channels: 12\n",
      "Device: Delsys\n",
      "Gestures: {0: 'See Exercises B and C from: https://ninapro.hevs.ch/instructions/DB2.html'}\n",
      "Number of Reps: 4 Train, 2 Test\n",
      "Number of Subjects: 40\n",
      "Citation: https://ninapro.hevs.ch/\n"
     ]
    }
   ],
   "source": [
    "dataset_Ninapro_DB2.get_info()"
   ]
  },
  {
   "cell_type": "markdown",
   "id": "85fe27f9",
   "metadata": {},
   "source": [
    "## Funciones para descarga de bases de datos de Ninapro\n",
    "\n",
    "Estas fueron hechas por Skynet."
   ]
  },
  {
   "cell_type": "code",
   "execution_count": 23,
   "id": "844552e8",
   "metadata": {},
   "outputs": [],
   "source": [
    "def create_directory(path: str) -> None:\n",
    "    \"\"\"\n",
    "    Crea un directorio si no existe.\n",
    "\n",
    "    :param path: Ruta del directorio a crear.\n",
    "    \"\"\"\n",
    "    os.makedirs(path, exist_ok=True)\n",
    "\n",
    "\n",
    "def download_file(url: str, output_path: str) -> None:\n",
    "    \"\"\"\n",
    "    Descarga un archivo desde una URL y lo guarda en la ruta especificada.\n",
    "\n",
    "    :param url: URL completa del archivo a descargar.\n",
    "    :param output_path: Ruta local donde se guardará el archivo.\n",
    "    \"\"\"\n",
    "    try:\n",
    "        response = requests.get(url, stream=True, timeout=10)\n",
    "        if response.status_code == 200:\n",
    "            with open(output_path, 'wb') as f:\n",
    "                for chunk in tqdm(response.iter_content(chunk_size=1024), desc=os.path.basename(output_path), unit='KB'):\n",
    "                    if chunk:\n",
    "                        f.write(chunk)\n",
    "            print(f'Descarga completa: {os.path.basename(output_path)}')\n",
    "        else:\n",
    "            print(f'Archivo no encontrado en: {url}')\n",
    "    except requests.exceptions.RequestException as e:\n",
    "        print(f'Error al descargar {os.path.basename(output_path)}: {e}')\n",
    "\n",
    "def extract_all_zip_files(zip_dir: str, extract_dir: str) -> None:\n",
    "    \"\"\"\n",
    "    Extrae todos los archivos .zip de un directorio a subcarpetas organizadas.\n",
    "\n",
    "    :param zip_dir: Directorio donde están los archivos .zip\n",
    "    :param extract_dir: Directorio donde se extraerán los archivos\n",
    "    \"\"\"\n",
    "    create_directory(extract_dir)\n",
    "\n",
    "    zip_files = [f for f in os.listdir(zip_dir) if f.endswith('.zip')]\n",
    "\n",
    "    for zip_file in zip_files:\n",
    "        zip_path = os.path.join(zip_dir, zip_file)\n",
    "        subject_folder = os.path.join(extract_dir, zip_file.replace('.zip', ''))\n",
    "\n",
    "        if os.path.exists(subject_folder):\n",
    "            print(f'{subject_folder} ya extraído. Omitiendo.')\n",
    "            continue\n",
    "\n",
    "        print(f'Extrayendo {zip_file}...')\n",
    "        create_directory(subject_folder)\n",
    "\n",
    "        with zipfile.ZipFile(zip_path, 'r') as zip_ref:\n",
    "            zip_ref.extractall(subject_folder)\n",
    "\n",
    "        print(f'Extracción completa: {subject_folder}')\n"
   ]
  },
  {
   "cell_type": "markdown",
   "id": "4eb2a927",
   "metadata": {},
   "source": [
    "La siguiente función debe ser actualizada para que generalice el patron."
   ]
  },
  {
   "cell_type": "code",
   "execution_count": 24,
   "id": "973d7797",
   "metadata": {},
   "outputs": [],
   "source": [
    "def download_ninapro_dataset(db_name: str,\n",
    "                              data_type: str = None,\n",
    "                              start: int = 1,\n",
    "                              end: int = 40,\n",
    "                              output_dir: str = None) -> None:\n",
    "    \"\"\"\n",
    "    Descarga archivos sX.zip de cualquier base de datos Ninapro. (OJO: Actualizar a DBX_zzz)\n",
    "\n",
    "    :param db_name: Nombre de la base de datos (Ejemplo: 'DB1', 'DB2', 'DB3').\n",
    "    :param data_type: Tipo de datos a descargar ('Preproc' o 'Raw').\n",
    "    :param start: Número inicial de archivo a descargar (por defecto 1).\n",
    "    :param end: Número final de archivo a descargar (por defecto 40).\n",
    "    :param output_dir: Carpeta local donde se guardarán los archivos. Si no se indica, se crea automáticamente.\n",
    "    \"\"\"\n",
    "    # assert data_type in ['Preproc', 'Raw'], \"data_type debe ser 'Preproc' o 'Raw'\"\n",
    "\n",
    "    base_url = f'https://ninapro.hevs.ch/files/{db_name}/{data_type}/'\n",
    "    print(base_url)\n",
    "\n",
    "    if output_dir is None:\n",
    "        output_dir = f'ninapro_{db_name}_{data_type}'\n",
    "    \n",
    "    create_directory(output_dir)\n",
    "\n",
    "    for i in range(start, end + 1):\n",
    "        file_name = f's{i}.zip'\n",
    "        output_path = os.path.join(output_dir, file_name)\n",
    "\n",
    "        if os.path.exists(output_path):\n",
    "            print(f'{file_name} ya existe. Descarga omitida.')\n",
    "            continue\n",
    "\n",
    "        file_url = base_url + file_name\n",
    "        print(f'Descargando {file_name}...')\n",
    "        download_file(file_url, output_path)"
   ]
  },
  {
   "cell_type": "markdown",
   "id": "a484bb06",
   "metadata": {},
   "source": [
    "Invocacion de la funcion para descargar el dataset"
   ]
  },
  {
   "cell_type": "code",
   "execution_count": null,
   "id": "473d22a9",
   "metadata": {},
   "outputs": [
    {
     "name": "stdout",
     "output_type": "stream",
     "text": [
      "https://ninapro.hevs.ch/files/DB1/Preprocessed/\n",
      "s1.zip ya existe. Descarga omitida.\n",
      "s2.zip ya existe. Descarga omitida.\n",
      "s3.zip ya existe. Descarga omitida.\n",
      "s4.zip ya existe. Descarga omitida.\n",
      "s5.zip ya existe. Descarga omitida.\n",
      "s6.zip ya existe. Descarga omitida.\n",
      "s7.zip ya existe. Descarga omitida.\n",
      "s8.zip ya existe. Descarga omitida.\n",
      "s9.zip ya existe. Descarga omitida.\n",
      "s10.zip ya existe. Descarga omitida.\n",
      "s11.zip ya existe. Descarga omitida.\n",
      "s12.zip ya existe. Descarga omitida.\n",
      "s13.zip ya existe. Descarga omitida.\n",
      "s14.zip ya existe. Descarga omitida.\n",
      "s15.zip ya existe. Descarga omitida.\n",
      "s16.zip ya existe. Descarga omitida.\n",
      "s17.zip ya existe. Descarga omitida.\n",
      "s18.zip ya existe. Descarga omitida.\n",
      "s19.zip ya existe. Descarga omitida.\n",
      "s20.zip ya existe. Descarga omitida.\n",
      "s21.zip ya existe. Descarga omitida.\n",
      "s22.zip ya existe. Descarga omitida.\n",
      "s23.zip ya existe. Descarga omitida.\n",
      "s24.zip ya existe. Descarga omitida.\n",
      "s25.zip ya existe. Descarga omitida.\n",
      "s26.zip ya existe. Descarga omitida.\n",
      "s27.zip ya existe. Descarga omitida.\n"
     ]
    }
   ],
   "source": [
    "# Se descargo el dataset DB1 \n",
    "download_ninapro_dataset('DB1', 'Preprocessed', 1, 27, 'ninapro_DB1_raw')"
   ]
  },
  {
   "cell_type": "markdown",
   "id": "f0183df5",
   "metadata": {},
   "source": [
    "Funcion que extrae los archivos descargados"
   ]
  },
  {
   "cell_type": "code",
   "execution_count": 25,
   "id": "1dd1f4ef",
   "metadata": {},
   "outputs": [],
   "source": [
    "def extract_all_zip_files(zip_dir: str, extract_dir: str) -> None:\n",
    "    \"\"\"\n",
    "    Extrae todos los archivos .zip de un directorio en subcarpetas con el mismo nombre del archivo.\n",
    "\n",
    "    :param zip_dir: Ruta donde están los archivos .zip.\n",
    "    :param extract_dir: Ruta donde se extraerán los archivos.\n",
    "    \"\"\"\n",
    "    if not os.path.exists(zip_dir):\n",
    "        raise ValueError(f'El directorio {zip_dir} no existe.')\n",
    "\n",
    "    os.makedirs(extract_dir, exist_ok=True)\n",
    "\n",
    "    zip_files = [f for f in os.listdir(zip_dir) if f.endswith('.zip')]\n",
    "\n",
    "    if not zip_files:\n",
    "        print(f'No se encontraron archivos .zip en {zip_dir}')\n",
    "        return\n",
    "\n",
    "    for zip_file in zip_files:\n",
    "        zip_path = os.path.join(zip_dir, zip_file)\n",
    "        folder_name = os.path.splitext(zip_file)[0]\n",
    "        output_path = os.path.join(extract_dir, folder_name)\n",
    "\n",
    "        if os.path.exists(output_path):\n",
    "            print(f'El archivo {zip_file} ya fue extraído. Omitiendo.')\n",
    "            continue\n",
    "\n",
    "        print(f'Extrayendo {zip_file}...')\n",
    "\n",
    "        os.makedirs(output_path, exist_ok=True)\n",
    "\n",
    "        with zipfile.ZipFile(zip_path, 'r') as zip_ref:\n",
    "            zip_ref.extractall(output_path)\n",
    "\n",
    "        print(f'Extracción completa: {output_path}')"
   ]
  },
  {
   "cell_type": "code",
   "execution_count": 13,
   "id": "810abfe3",
   "metadata": {},
   "outputs": [
    {
     "name": "stdout",
     "output_type": "stream",
     "text": [
      "El archivo s1.zip ya fue extraído. Omitiendo.\n",
      "El archivo s10.zip ya fue extraído. Omitiendo.\n",
      "El archivo s11.zip ya fue extraído. Omitiendo.\n",
      "El archivo s12.zip ya fue extraído. Omitiendo.\n",
      "El archivo s13.zip ya fue extraído. Omitiendo.\n",
      "El archivo s14.zip ya fue extraído. Omitiendo.\n",
      "El archivo s15.zip ya fue extraído. Omitiendo.\n",
      "El archivo s16.zip ya fue extraído. Omitiendo.\n",
      "El archivo s17.zip ya fue extraído. Omitiendo.\n",
      "El archivo s18.zip ya fue extraído. Omitiendo.\n",
      "El archivo s19.zip ya fue extraído. Omitiendo.\n",
      "El archivo s2.zip ya fue extraído. Omitiendo.\n",
      "El archivo s20.zip ya fue extraído. Omitiendo.\n",
      "El archivo s21.zip ya fue extraído. Omitiendo.\n",
      "El archivo s22.zip ya fue extraído. Omitiendo.\n",
      "El archivo s23.zip ya fue extraído. Omitiendo.\n",
      "El archivo s24.zip ya fue extraído. Omitiendo.\n",
      "El archivo s25.zip ya fue extraído. Omitiendo.\n",
      "El archivo s26.zip ya fue extraído. Omitiendo.\n",
      "El archivo s27.zip ya fue extraído. Omitiendo.\n",
      "El archivo s3.zip ya fue extraído. Omitiendo.\n",
      "El archivo s4.zip ya fue extraído. Omitiendo.\n",
      "El archivo s5.zip ya fue extraído. Omitiendo.\n",
      "El archivo s6.zip ya fue extraído. Omitiendo.\n",
      "El archivo s7.zip ya fue extraído. Omitiendo.\n",
      "El archivo s8.zip ya fue extraído. Omitiendo.\n",
      "El archivo s9.zip ya fue extraído. Omitiendo.\n"
     ]
    }
   ],
   "source": [
    "extract_all_zip_files(\n",
    "    zip_dir='ninapro_DB1_raw',               # Directorio donde están los .zip\n",
    "    extract_dir='ninapro_DB1_raw_unzip'  # Carpeta destino para extracción\n",
    ")"
   ]
  },
  {
   "cell_type": "markdown",
   "id": "8503515a",
   "metadata": {},
   "source": [
    "Teniendo en cuenta el siguiente codigo ([link](https://libemg.github.io/libemg/documentation/data/data.html#offline-data-handler)) para generar la busqueda usando la siguiente expresión regular `dataset/train/R_1_C_1_EMG.csv`\n",
    "\n",
    "```py\n",
    "dataset_folder = 'dataset'\n",
    "regex_filters = [\n",
    "    RegexFilter(left_bound = \"dataset/\", right_bound=\"/\", values = sets_values, description='sets'),\n",
    "    RegexFilter(left_bound = \"_C_\", right_bound=\"_EMG.csv\", values = classes_values, description='classes'),\n",
    "    RegexFilter(left_bound = \"R_\", right_bound=\"_C_\", values = reps_values, description='reps')\n",
    "]\n",
    "odh = OfflineDataHandler()\n",
    "odh.get_data(folder_location=dataset_folder, regex_filters=regex_filters, delimiter=\",\")\n",
    "```"
   ]
  },
  {
   "cell_type": "code",
   "execution_count": 29,
   "id": "29a73c22",
   "metadata": {},
   "outputs": [],
   "source": [
    "# Función para convertir .mat a .csv\n",
    "def convert_mat_to_csv(input_dir, output_dir):\n",
    "    \"\"\"\n",
    "    Convierte todos los archivos .mat de un directorio a archivos .csv.\n",
    "\n",
    "    Parámetros:\n",
    "        input_dir (str): Ruta de los archivos .mat\n",
    "        output_dir (str): Ruta donde se guardarán los archivos .csv\n",
    "    \"\"\"\n",
    "    os.makedirs(output_dir, exist_ok=True)\n",
    "\n",
    "    for root, dirs, files in os.walk(input_dir):\n",
    "        for file in files:\n",
    "            if file.endswith('.mat'):\n",
    "                mat_path = os.path.join(root, file)\n",
    "                mat_data = scipy.io.loadmat(mat_path)\n",
    "\n",
    "                for key in mat_data:\n",
    "                    # print(key)\n",
    "                    if not key.startswith('__'):\n",
    "                        data = mat_data[key]\n",
    "\n",
    "                        if isinstance(data, (list, tuple, dict)):\n",
    "                            continue\n",
    "                        if hasattr(data, 'shape'):\n",
    "                            df = pd.DataFrame(data)\n",
    "                            output_csv = os.path.join(\n",
    "                                output_dir, f'{file.replace(\".mat\", \"\")}_{key}.csv')\n",
    "                            df.to_csv(output_csv, index=False)\n",
    "                            print(f'Guardado: {output_csv}')"
   ]
  },
  {
   "cell_type": "code",
   "execution_count": 30,
   "id": "d00a8ab3",
   "metadata": {},
   "outputs": [
    {
     "name": "stdout",
     "output_type": "stream",
     "text": [
      "Guardado: ninapro_DB1_raw_csv\\S1_A1_E1_emg.csv\n",
      "Guardado: ninapro_DB1_raw_csv\\S1_A1_E1_stimulus.csv\n",
      "Guardado: ninapro_DB1_raw_csv\\S1_A1_E1_glove.csv\n",
      "Guardado: ninapro_DB1_raw_csv\\S1_A1_E1_subject.csv\n",
      "Guardado: ninapro_DB1_raw_csv\\S1_A1_E1_exercise.csv\n",
      "Guardado: ninapro_DB1_raw_csv\\S1_A1_E1_repetition.csv\n",
      "Guardado: ninapro_DB1_raw_csv\\S1_A1_E1_restimulus.csv\n",
      "Guardado: ninapro_DB1_raw_csv\\S1_A1_E1_rerepetition.csv\n",
      "Guardado: ninapro_DB1_raw_csv\\S1_A1_E2_emg.csv\n",
      "Guardado: ninapro_DB1_raw_csv\\S1_A1_E2_stimulus.csv\n",
      "Guardado: ninapro_DB1_raw_csv\\S1_A1_E2_glove.csv\n",
      "Guardado: ninapro_DB1_raw_csv\\S1_A1_E2_subject.csv\n",
      "Guardado: ninapro_DB1_raw_csv\\S1_A1_E2_exercise.csv\n",
      "Guardado: ninapro_DB1_raw_csv\\S1_A1_E2_repetition.csv\n",
      "Guardado: ninapro_DB1_raw_csv\\S1_A1_E2_restimulus.csv\n",
      "Guardado: ninapro_DB1_raw_csv\\S1_A1_E2_rerepetition.csv\n",
      "Guardado: ninapro_DB1_raw_csv\\S1_A1_E3_emg.csv\n",
      "Guardado: ninapro_DB1_raw_csv\\S1_A1_E3_stimulus.csv\n",
      "Guardado: ninapro_DB1_raw_csv\\S1_A1_E3_glove.csv\n",
      "Guardado: ninapro_DB1_raw_csv\\S1_A1_E3_subject.csv\n",
      "Guardado: ninapro_DB1_raw_csv\\S1_A1_E3_exercise.csv\n",
      "Guardado: ninapro_DB1_raw_csv\\S1_A1_E3_repetition.csv\n",
      "Guardado: ninapro_DB1_raw_csv\\S1_A1_E3_restimulus.csv\n",
      "Guardado: ninapro_DB1_raw_csv\\S1_A1_E3_rerepetition.csv\n",
      "Guardado: ninapro_DB1_raw_csv\\S10_A1_E1_subject.csv\n",
      "Guardado: ninapro_DB1_raw_csv\\S10_A1_E1_exercise.csv\n",
      "Guardado: ninapro_DB1_raw_csv\\S10_A1_E1_stimulus.csv\n",
      "Guardado: ninapro_DB1_raw_csv\\S10_A1_E1_emg.csv\n",
      "Guardado: ninapro_DB1_raw_csv\\S10_A1_E1_glove.csv\n",
      "Guardado: ninapro_DB1_raw_csv\\S10_A1_E1_restimulus.csv\n",
      "Guardado: ninapro_DB1_raw_csv\\S10_A1_E1_repetition.csv\n",
      "Guardado: ninapro_DB1_raw_csv\\S10_A1_E1_rerepetition.csv\n",
      "Guardado: ninapro_DB1_raw_csv\\S10_A1_E2_subject.csv\n",
      "Guardado: ninapro_DB1_raw_csv\\S10_A1_E2_exercise.csv\n",
      "Guardado: ninapro_DB1_raw_csv\\S10_A1_E2_stimulus.csv\n",
      "Guardado: ninapro_DB1_raw_csv\\S10_A1_E2_emg.csv\n",
      "Guardado: ninapro_DB1_raw_csv\\S10_A1_E2_glove.csv\n",
      "Guardado: ninapro_DB1_raw_csv\\S10_A1_E2_restimulus.csv\n",
      "Guardado: ninapro_DB1_raw_csv\\S10_A1_E2_repetition.csv\n",
      "Guardado: ninapro_DB1_raw_csv\\S10_A1_E2_rerepetition.csv\n",
      "Guardado: ninapro_DB1_raw_csv\\S10_A1_E3_subject.csv\n",
      "Guardado: ninapro_DB1_raw_csv\\S10_A1_E3_exercise.csv\n",
      "Guardado: ninapro_DB1_raw_csv\\S10_A1_E3_stimulus.csv\n",
      "Guardado: ninapro_DB1_raw_csv\\S10_A1_E3_emg.csv\n",
      "Guardado: ninapro_DB1_raw_csv\\S10_A1_E3_glove.csv\n",
      "Guardado: ninapro_DB1_raw_csv\\S10_A1_E3_restimulus.csv\n",
      "Guardado: ninapro_DB1_raw_csv\\S10_A1_E3_repetition.csv\n",
      "Guardado: ninapro_DB1_raw_csv\\S10_A1_E3_rerepetition.csv\n",
      "Guardado: ninapro_DB1_raw_csv\\S11_A1_E1_subject.csv\n",
      "Guardado: ninapro_DB1_raw_csv\\S11_A1_E1_exercise.csv\n",
      "Guardado: ninapro_DB1_raw_csv\\S11_A1_E1_stimulus.csv\n",
      "Guardado: ninapro_DB1_raw_csv\\S11_A1_E1_emg.csv\n",
      "Guardado: ninapro_DB1_raw_csv\\S11_A1_E1_glove.csv\n",
      "Guardado: ninapro_DB1_raw_csv\\S11_A1_E1_restimulus.csv\n",
      "Guardado: ninapro_DB1_raw_csv\\S11_A1_E1_repetition.csv\n",
      "Guardado: ninapro_DB1_raw_csv\\S11_A1_E1_rerepetition.csv\n",
      "Guardado: ninapro_DB1_raw_csv\\S11_A1_E2_subject.csv\n",
      "Guardado: ninapro_DB1_raw_csv\\S11_A1_E2_exercise.csv\n",
      "Guardado: ninapro_DB1_raw_csv\\S11_A1_E2_stimulus.csv\n",
      "Guardado: ninapro_DB1_raw_csv\\S11_A1_E2_emg.csv\n",
      "Guardado: ninapro_DB1_raw_csv\\S11_A1_E2_glove.csv\n",
      "Guardado: ninapro_DB1_raw_csv\\S11_A1_E2_restimulus.csv\n",
      "Guardado: ninapro_DB1_raw_csv\\S11_A1_E2_repetition.csv\n",
      "Guardado: ninapro_DB1_raw_csv\\S11_A1_E2_rerepetition.csv\n",
      "Guardado: ninapro_DB1_raw_csv\\S11_A1_E3_subject.csv\n",
      "Guardado: ninapro_DB1_raw_csv\\S11_A1_E3_exercise.csv\n",
      "Guardado: ninapro_DB1_raw_csv\\S11_A1_E3_stimulus.csv\n",
      "Guardado: ninapro_DB1_raw_csv\\S11_A1_E3_emg.csv\n",
      "Guardado: ninapro_DB1_raw_csv\\S11_A1_E3_glove.csv\n",
      "Guardado: ninapro_DB1_raw_csv\\S11_A1_E3_restimulus.csv\n",
      "Guardado: ninapro_DB1_raw_csv\\S11_A1_E3_repetition.csv\n",
      "Guardado: ninapro_DB1_raw_csv\\S11_A1_E3_rerepetition.csv\n",
      "Guardado: ninapro_DB1_raw_csv\\S12_A1_E1_subject.csv\n",
      "Guardado: ninapro_DB1_raw_csv\\S12_A1_E1_exercise.csv\n",
      "Guardado: ninapro_DB1_raw_csv\\S12_A1_E1_stimulus.csv\n",
      "Guardado: ninapro_DB1_raw_csv\\S12_A1_E1_emg.csv\n",
      "Guardado: ninapro_DB1_raw_csv\\S12_A1_E1_glove.csv\n",
      "Guardado: ninapro_DB1_raw_csv\\S12_A1_E1_restimulus.csv\n",
      "Guardado: ninapro_DB1_raw_csv\\S12_A1_E1_repetition.csv\n",
      "Guardado: ninapro_DB1_raw_csv\\S12_A1_E1_rerepetition.csv\n",
      "Guardado: ninapro_DB1_raw_csv\\S12_A1_E2_subject.csv\n",
      "Guardado: ninapro_DB1_raw_csv\\S12_A1_E2_exercise.csv\n",
      "Guardado: ninapro_DB1_raw_csv\\S12_A1_E2_stimulus.csv\n",
      "Guardado: ninapro_DB1_raw_csv\\S12_A1_E2_emg.csv\n",
      "Guardado: ninapro_DB1_raw_csv\\S12_A1_E2_glove.csv\n",
      "Guardado: ninapro_DB1_raw_csv\\S12_A1_E2_restimulus.csv\n",
      "Guardado: ninapro_DB1_raw_csv\\S12_A1_E2_repetition.csv\n",
      "Guardado: ninapro_DB1_raw_csv\\S12_A1_E2_rerepetition.csv\n",
      "Guardado: ninapro_DB1_raw_csv\\S12_A1_E3_subject.csv\n",
      "Guardado: ninapro_DB1_raw_csv\\S12_A1_E3_exercise.csv\n",
      "Guardado: ninapro_DB1_raw_csv\\S12_A1_E3_stimulus.csv\n",
      "Guardado: ninapro_DB1_raw_csv\\S12_A1_E3_emg.csv\n",
      "Guardado: ninapro_DB1_raw_csv\\S12_A1_E3_glove.csv\n",
      "Guardado: ninapro_DB1_raw_csv\\S12_A1_E3_restimulus.csv\n",
      "Guardado: ninapro_DB1_raw_csv\\S12_A1_E3_repetition.csv\n",
      "Guardado: ninapro_DB1_raw_csv\\S12_A1_E3_rerepetition.csv\n",
      "Guardado: ninapro_DB1_raw_csv\\S13_A1_E1_subject.csv\n",
      "Guardado: ninapro_DB1_raw_csv\\S13_A1_E1_exercise.csv\n",
      "Guardado: ninapro_DB1_raw_csv\\S13_A1_E1_stimulus.csv\n",
      "Guardado: ninapro_DB1_raw_csv\\S13_A1_E1_emg.csv\n",
      "Guardado: ninapro_DB1_raw_csv\\S13_A1_E1_glove.csv\n",
      "Guardado: ninapro_DB1_raw_csv\\S13_A1_E1_restimulus.csv\n",
      "Guardado: ninapro_DB1_raw_csv\\S13_A1_E1_repetition.csv\n",
      "Guardado: ninapro_DB1_raw_csv\\S13_A1_E1_rerepetition.csv\n",
      "Guardado: ninapro_DB1_raw_csv\\S13_A1_E2_subject.csv\n",
      "Guardado: ninapro_DB1_raw_csv\\S13_A1_E2_exercise.csv\n",
      "Guardado: ninapro_DB1_raw_csv\\S13_A1_E2_stimulus.csv\n",
      "Guardado: ninapro_DB1_raw_csv\\S13_A1_E2_emg.csv\n",
      "Guardado: ninapro_DB1_raw_csv\\S13_A1_E2_glove.csv\n",
      "Guardado: ninapro_DB1_raw_csv\\S13_A1_E2_restimulus.csv\n",
      "Guardado: ninapro_DB1_raw_csv\\S13_A1_E2_repetition.csv\n",
      "Guardado: ninapro_DB1_raw_csv\\S13_A1_E2_rerepetition.csv\n",
      "Guardado: ninapro_DB1_raw_csv\\S13_A1_E3_subject.csv\n",
      "Guardado: ninapro_DB1_raw_csv\\S13_A1_E3_exercise.csv\n",
      "Guardado: ninapro_DB1_raw_csv\\S13_A1_E3_stimulus.csv\n",
      "Guardado: ninapro_DB1_raw_csv\\S13_A1_E3_emg.csv\n",
      "Guardado: ninapro_DB1_raw_csv\\S13_A1_E3_glove.csv\n",
      "Guardado: ninapro_DB1_raw_csv\\S13_A1_E3_restimulus.csv\n",
      "Guardado: ninapro_DB1_raw_csv\\S13_A1_E3_repetition.csv\n",
      "Guardado: ninapro_DB1_raw_csv\\S13_A1_E3_rerepetition.csv\n",
      "Guardado: ninapro_DB1_raw_csv\\S14_A1_E1_subject.csv\n",
      "Guardado: ninapro_DB1_raw_csv\\S14_A1_E1_exercise.csv\n",
      "Guardado: ninapro_DB1_raw_csv\\S14_A1_E1_stimulus.csv\n",
      "Guardado: ninapro_DB1_raw_csv\\S14_A1_E1_emg.csv\n",
      "Guardado: ninapro_DB1_raw_csv\\S14_A1_E1_glove.csv\n",
      "Guardado: ninapro_DB1_raw_csv\\S14_A1_E1_restimulus.csv\n",
      "Guardado: ninapro_DB1_raw_csv\\S14_A1_E1_repetition.csv\n",
      "Guardado: ninapro_DB1_raw_csv\\S14_A1_E1_rerepetition.csv\n",
      "Guardado: ninapro_DB1_raw_csv\\S14_A1_E2_subject.csv\n",
      "Guardado: ninapro_DB1_raw_csv\\S14_A1_E2_exercise.csv\n",
      "Guardado: ninapro_DB1_raw_csv\\S14_A1_E2_stimulus.csv\n",
      "Guardado: ninapro_DB1_raw_csv\\S14_A1_E2_emg.csv\n",
      "Guardado: ninapro_DB1_raw_csv\\S14_A1_E2_glove.csv\n",
      "Guardado: ninapro_DB1_raw_csv\\S14_A1_E2_restimulus.csv\n",
      "Guardado: ninapro_DB1_raw_csv\\S14_A1_E2_repetition.csv\n",
      "Guardado: ninapro_DB1_raw_csv\\S14_A1_E2_rerepetition.csv\n",
      "Guardado: ninapro_DB1_raw_csv\\S14_A1_E3_subject.csv\n",
      "Guardado: ninapro_DB1_raw_csv\\S14_A1_E3_exercise.csv\n",
      "Guardado: ninapro_DB1_raw_csv\\S14_A1_E3_stimulus.csv\n",
      "Guardado: ninapro_DB1_raw_csv\\S14_A1_E3_emg.csv\n",
      "Guardado: ninapro_DB1_raw_csv\\S14_A1_E3_glove.csv\n",
      "Guardado: ninapro_DB1_raw_csv\\S14_A1_E3_restimulus.csv\n",
      "Guardado: ninapro_DB1_raw_csv\\S14_A1_E3_repetition.csv\n",
      "Guardado: ninapro_DB1_raw_csv\\S14_A1_E3_rerepetition.csv\n",
      "Guardado: ninapro_DB1_raw_csv\\S15_A1_E1_subject.csv\n",
      "Guardado: ninapro_DB1_raw_csv\\S15_A1_E1_exercise.csv\n",
      "Guardado: ninapro_DB1_raw_csv\\S15_A1_E1_stimulus.csv\n",
      "Guardado: ninapro_DB1_raw_csv\\S15_A1_E1_emg.csv\n",
      "Guardado: ninapro_DB1_raw_csv\\S15_A1_E1_glove.csv\n",
      "Guardado: ninapro_DB1_raw_csv\\S15_A1_E1_restimulus.csv\n",
      "Guardado: ninapro_DB1_raw_csv\\S15_A1_E1_repetition.csv\n",
      "Guardado: ninapro_DB1_raw_csv\\S15_A1_E1_rerepetition.csv\n",
      "Guardado: ninapro_DB1_raw_csv\\S15_A1_E2_subject.csv\n",
      "Guardado: ninapro_DB1_raw_csv\\S15_A1_E2_exercise.csv\n",
      "Guardado: ninapro_DB1_raw_csv\\S15_A1_E2_stimulus.csv\n",
      "Guardado: ninapro_DB1_raw_csv\\S15_A1_E2_emg.csv\n",
      "Guardado: ninapro_DB1_raw_csv\\S15_A1_E2_glove.csv\n",
      "Guardado: ninapro_DB1_raw_csv\\S15_A1_E2_restimulus.csv\n",
      "Guardado: ninapro_DB1_raw_csv\\S15_A1_E2_repetition.csv\n",
      "Guardado: ninapro_DB1_raw_csv\\S15_A1_E2_rerepetition.csv\n",
      "Guardado: ninapro_DB1_raw_csv\\S15_A1_E3_subject.csv\n",
      "Guardado: ninapro_DB1_raw_csv\\S15_A1_E3_exercise.csv\n",
      "Guardado: ninapro_DB1_raw_csv\\S15_A1_E3_stimulus.csv\n",
      "Guardado: ninapro_DB1_raw_csv\\S15_A1_E3_emg.csv\n",
      "Guardado: ninapro_DB1_raw_csv\\S15_A1_E3_glove.csv\n",
      "Guardado: ninapro_DB1_raw_csv\\S15_A1_E3_restimulus.csv\n",
      "Guardado: ninapro_DB1_raw_csv\\S15_A1_E3_repetition.csv\n",
      "Guardado: ninapro_DB1_raw_csv\\S15_A1_E3_rerepetition.csv\n",
      "Guardado: ninapro_DB1_raw_csv\\S16_A1_E1_subject.csv\n",
      "Guardado: ninapro_DB1_raw_csv\\S16_A1_E1_exercise.csv\n",
      "Guardado: ninapro_DB1_raw_csv\\S16_A1_E1_stimulus.csv\n",
      "Guardado: ninapro_DB1_raw_csv\\S16_A1_E1_emg.csv\n",
      "Guardado: ninapro_DB1_raw_csv\\S16_A1_E1_glove.csv\n",
      "Guardado: ninapro_DB1_raw_csv\\S16_A1_E1_restimulus.csv\n",
      "Guardado: ninapro_DB1_raw_csv\\S16_A1_E1_repetition.csv\n",
      "Guardado: ninapro_DB1_raw_csv\\S16_A1_E1_rerepetition.csv\n",
      "Guardado: ninapro_DB1_raw_csv\\S16_A1_E2_subject.csv\n",
      "Guardado: ninapro_DB1_raw_csv\\S16_A1_E2_exercise.csv\n",
      "Guardado: ninapro_DB1_raw_csv\\S16_A1_E2_stimulus.csv\n",
      "Guardado: ninapro_DB1_raw_csv\\S16_A1_E2_emg.csv\n",
      "Guardado: ninapro_DB1_raw_csv\\S16_A1_E2_glove.csv\n",
      "Guardado: ninapro_DB1_raw_csv\\S16_A1_E2_restimulus.csv\n",
      "Guardado: ninapro_DB1_raw_csv\\S16_A1_E2_repetition.csv\n",
      "Guardado: ninapro_DB1_raw_csv\\S16_A1_E2_rerepetition.csv\n",
      "Guardado: ninapro_DB1_raw_csv\\S16_A1_E3_subject.csv\n",
      "Guardado: ninapro_DB1_raw_csv\\S16_A1_E3_exercise.csv\n",
      "Guardado: ninapro_DB1_raw_csv\\S16_A1_E3_stimulus.csv\n",
      "Guardado: ninapro_DB1_raw_csv\\S16_A1_E3_emg.csv\n",
      "Guardado: ninapro_DB1_raw_csv\\S16_A1_E3_glove.csv\n",
      "Guardado: ninapro_DB1_raw_csv\\S16_A1_E3_restimulus.csv\n",
      "Guardado: ninapro_DB1_raw_csv\\S16_A1_E3_repetition.csv\n",
      "Guardado: ninapro_DB1_raw_csv\\S16_A1_E3_rerepetition.csv\n",
      "Guardado: ninapro_DB1_raw_csv\\S17_A1_E1_subject.csv\n",
      "Guardado: ninapro_DB1_raw_csv\\S17_A1_E1_exercise.csv\n",
      "Guardado: ninapro_DB1_raw_csv\\S17_A1_E1_stimulus.csv\n",
      "Guardado: ninapro_DB1_raw_csv\\S17_A1_E1_emg.csv\n",
      "Guardado: ninapro_DB1_raw_csv\\S17_A1_E1_glove.csv\n",
      "Guardado: ninapro_DB1_raw_csv\\S17_A1_E1_restimulus.csv\n",
      "Guardado: ninapro_DB1_raw_csv\\S17_A1_E1_repetition.csv\n",
      "Guardado: ninapro_DB1_raw_csv\\S17_A1_E1_rerepetition.csv\n",
      "Guardado: ninapro_DB1_raw_csv\\S17_A1_E2_subject.csv\n",
      "Guardado: ninapro_DB1_raw_csv\\S17_A1_E2_exercise.csv\n",
      "Guardado: ninapro_DB1_raw_csv\\S17_A1_E2_stimulus.csv\n",
      "Guardado: ninapro_DB1_raw_csv\\S17_A1_E2_emg.csv\n",
      "Guardado: ninapro_DB1_raw_csv\\S17_A1_E2_glove.csv\n",
      "Guardado: ninapro_DB1_raw_csv\\S17_A1_E2_restimulus.csv\n",
      "Guardado: ninapro_DB1_raw_csv\\S17_A1_E2_repetition.csv\n",
      "Guardado: ninapro_DB1_raw_csv\\S17_A1_E2_rerepetition.csv\n",
      "Guardado: ninapro_DB1_raw_csv\\S17_A1_E3_subject.csv\n",
      "Guardado: ninapro_DB1_raw_csv\\S17_A1_E3_exercise.csv\n",
      "Guardado: ninapro_DB1_raw_csv\\S17_A1_E3_stimulus.csv\n",
      "Guardado: ninapro_DB1_raw_csv\\S17_A1_E3_emg.csv\n",
      "Guardado: ninapro_DB1_raw_csv\\S17_A1_E3_glove.csv\n",
      "Guardado: ninapro_DB1_raw_csv\\S17_A1_E3_restimulus.csv\n",
      "Guardado: ninapro_DB1_raw_csv\\S17_A1_E3_repetition.csv\n",
      "Guardado: ninapro_DB1_raw_csv\\S17_A1_E3_rerepetition.csv\n",
      "Guardado: ninapro_DB1_raw_csv\\S18_A1_E1_subject.csv\n",
      "Guardado: ninapro_DB1_raw_csv\\S18_A1_E1_exercise.csv\n",
      "Guardado: ninapro_DB1_raw_csv\\S18_A1_E1_stimulus.csv\n",
      "Guardado: ninapro_DB1_raw_csv\\S18_A1_E1_emg.csv\n",
      "Guardado: ninapro_DB1_raw_csv\\S18_A1_E1_glove.csv\n",
      "Guardado: ninapro_DB1_raw_csv\\S18_A1_E1_restimulus.csv\n",
      "Guardado: ninapro_DB1_raw_csv\\S18_A1_E1_repetition.csv\n",
      "Guardado: ninapro_DB1_raw_csv\\S18_A1_E1_rerepetition.csv\n",
      "Guardado: ninapro_DB1_raw_csv\\S18_A1_E2_subject.csv\n",
      "Guardado: ninapro_DB1_raw_csv\\S18_A1_E2_exercise.csv\n",
      "Guardado: ninapro_DB1_raw_csv\\S18_A1_E2_stimulus.csv\n",
      "Guardado: ninapro_DB1_raw_csv\\S18_A1_E2_emg.csv\n",
      "Guardado: ninapro_DB1_raw_csv\\S18_A1_E2_glove.csv\n",
      "Guardado: ninapro_DB1_raw_csv\\S18_A1_E2_restimulus.csv\n",
      "Guardado: ninapro_DB1_raw_csv\\S18_A1_E2_repetition.csv\n",
      "Guardado: ninapro_DB1_raw_csv\\S18_A1_E2_rerepetition.csv\n",
      "Guardado: ninapro_DB1_raw_csv\\S18_A1_E3_subject.csv\n",
      "Guardado: ninapro_DB1_raw_csv\\S18_A1_E3_exercise.csv\n",
      "Guardado: ninapro_DB1_raw_csv\\S18_A1_E3_stimulus.csv\n",
      "Guardado: ninapro_DB1_raw_csv\\S18_A1_E3_emg.csv\n",
      "Guardado: ninapro_DB1_raw_csv\\S18_A1_E3_glove.csv\n",
      "Guardado: ninapro_DB1_raw_csv\\S18_A1_E3_restimulus.csv\n",
      "Guardado: ninapro_DB1_raw_csv\\S18_A1_E3_repetition.csv\n",
      "Guardado: ninapro_DB1_raw_csv\\S18_A1_E3_rerepetition.csv\n",
      "Guardado: ninapro_DB1_raw_csv\\S19_A1_E1_subject.csv\n",
      "Guardado: ninapro_DB1_raw_csv\\S19_A1_E1_exercise.csv\n",
      "Guardado: ninapro_DB1_raw_csv\\S19_A1_E1_stimulus.csv\n",
      "Guardado: ninapro_DB1_raw_csv\\S19_A1_E1_emg.csv\n",
      "Guardado: ninapro_DB1_raw_csv\\S19_A1_E1_glove.csv\n",
      "Guardado: ninapro_DB1_raw_csv\\S19_A1_E1_restimulus.csv\n",
      "Guardado: ninapro_DB1_raw_csv\\S19_A1_E1_repetition.csv\n",
      "Guardado: ninapro_DB1_raw_csv\\S19_A1_E1_rerepetition.csv\n",
      "Guardado: ninapro_DB1_raw_csv\\S19_A1_E2_subject.csv\n",
      "Guardado: ninapro_DB1_raw_csv\\S19_A1_E2_exercise.csv\n",
      "Guardado: ninapro_DB1_raw_csv\\S19_A1_E2_stimulus.csv\n",
      "Guardado: ninapro_DB1_raw_csv\\S19_A1_E2_emg.csv\n",
      "Guardado: ninapro_DB1_raw_csv\\S19_A1_E2_glove.csv\n",
      "Guardado: ninapro_DB1_raw_csv\\S19_A1_E2_restimulus.csv\n",
      "Guardado: ninapro_DB1_raw_csv\\S19_A1_E2_repetition.csv\n",
      "Guardado: ninapro_DB1_raw_csv\\S19_A1_E2_rerepetition.csv\n",
      "Guardado: ninapro_DB1_raw_csv\\S19_A1_E3_subject.csv\n",
      "Guardado: ninapro_DB1_raw_csv\\S19_A1_E3_exercise.csv\n",
      "Guardado: ninapro_DB1_raw_csv\\S19_A1_E3_stimulus.csv\n",
      "Guardado: ninapro_DB1_raw_csv\\S19_A1_E3_emg.csv\n",
      "Guardado: ninapro_DB1_raw_csv\\S19_A1_E3_glove.csv\n",
      "Guardado: ninapro_DB1_raw_csv\\S19_A1_E3_restimulus.csv\n",
      "Guardado: ninapro_DB1_raw_csv\\S19_A1_E3_repetition.csv\n",
      "Guardado: ninapro_DB1_raw_csv\\S19_A1_E3_rerepetition.csv\n",
      "Guardado: ninapro_DB1_raw_csv\\S2_A1_E1_subject.csv\n",
      "Guardado: ninapro_DB1_raw_csv\\S2_A1_E1_exercise.csv\n",
      "Guardado: ninapro_DB1_raw_csv\\S2_A1_E1_stimulus.csv\n",
      "Guardado: ninapro_DB1_raw_csv\\S2_A1_E1_emg.csv\n",
      "Guardado: ninapro_DB1_raw_csv\\S2_A1_E1_glove.csv\n",
      "Guardado: ninapro_DB1_raw_csv\\S2_A1_E1_restimulus.csv\n",
      "Guardado: ninapro_DB1_raw_csv\\S2_A1_E1_repetition.csv\n",
      "Guardado: ninapro_DB1_raw_csv\\S2_A1_E1_rerepetition.csv\n",
      "Guardado: ninapro_DB1_raw_csv\\S2_A1_E2_subject.csv\n",
      "Guardado: ninapro_DB1_raw_csv\\S2_A1_E2_exercise.csv\n",
      "Guardado: ninapro_DB1_raw_csv\\S2_A1_E2_stimulus.csv\n",
      "Guardado: ninapro_DB1_raw_csv\\S2_A1_E2_emg.csv\n",
      "Guardado: ninapro_DB1_raw_csv\\S2_A1_E2_glove.csv\n",
      "Guardado: ninapro_DB1_raw_csv\\S2_A1_E2_restimulus.csv\n",
      "Guardado: ninapro_DB1_raw_csv\\S2_A1_E2_repetition.csv\n",
      "Guardado: ninapro_DB1_raw_csv\\S2_A1_E2_rerepetition.csv\n",
      "Guardado: ninapro_DB1_raw_csv\\S2_A1_E3_subject.csv\n",
      "Guardado: ninapro_DB1_raw_csv\\S2_A1_E3_exercise.csv\n",
      "Guardado: ninapro_DB1_raw_csv\\S2_A1_E3_stimulus.csv\n",
      "Guardado: ninapro_DB1_raw_csv\\S2_A1_E3_emg.csv\n",
      "Guardado: ninapro_DB1_raw_csv\\S2_A1_E3_glove.csv\n",
      "Guardado: ninapro_DB1_raw_csv\\S2_A1_E3_restimulus.csv\n",
      "Guardado: ninapro_DB1_raw_csv\\S2_A1_E3_repetition.csv\n",
      "Guardado: ninapro_DB1_raw_csv\\S2_A1_E3_rerepetition.csv\n",
      "Guardado: ninapro_DB1_raw_csv\\S20_A1_E1_subject.csv\n",
      "Guardado: ninapro_DB1_raw_csv\\S20_A1_E1_exercise.csv\n",
      "Guardado: ninapro_DB1_raw_csv\\S20_A1_E1_stimulus.csv\n",
      "Guardado: ninapro_DB1_raw_csv\\S20_A1_E1_emg.csv\n",
      "Guardado: ninapro_DB1_raw_csv\\S20_A1_E1_glove.csv\n",
      "Guardado: ninapro_DB1_raw_csv\\S20_A1_E1_restimulus.csv\n",
      "Guardado: ninapro_DB1_raw_csv\\S20_A1_E1_repetition.csv\n",
      "Guardado: ninapro_DB1_raw_csv\\S20_A1_E1_rerepetition.csv\n",
      "Guardado: ninapro_DB1_raw_csv\\S20_A1_E2_subject.csv\n",
      "Guardado: ninapro_DB1_raw_csv\\S20_A1_E2_exercise.csv\n",
      "Guardado: ninapro_DB1_raw_csv\\S20_A1_E2_stimulus.csv\n",
      "Guardado: ninapro_DB1_raw_csv\\S20_A1_E2_emg.csv\n",
      "Guardado: ninapro_DB1_raw_csv\\S20_A1_E2_glove.csv\n",
      "Guardado: ninapro_DB1_raw_csv\\S20_A1_E2_restimulus.csv\n",
      "Guardado: ninapro_DB1_raw_csv\\S20_A1_E2_repetition.csv\n",
      "Guardado: ninapro_DB1_raw_csv\\S20_A1_E2_rerepetition.csv\n",
      "Guardado: ninapro_DB1_raw_csv\\S20_A1_E3_subject.csv\n",
      "Guardado: ninapro_DB1_raw_csv\\S20_A1_E3_exercise.csv\n",
      "Guardado: ninapro_DB1_raw_csv\\S20_A1_E3_stimulus.csv\n",
      "Guardado: ninapro_DB1_raw_csv\\S20_A1_E3_emg.csv\n",
      "Guardado: ninapro_DB1_raw_csv\\S20_A1_E3_glove.csv\n",
      "Guardado: ninapro_DB1_raw_csv\\S20_A1_E3_restimulus.csv\n",
      "Guardado: ninapro_DB1_raw_csv\\S20_A1_E3_repetition.csv\n",
      "Guardado: ninapro_DB1_raw_csv\\S20_A1_E3_rerepetition.csv\n",
      "Guardado: ninapro_DB1_raw_csv\\S21_A1_E1_subject.csv\n",
      "Guardado: ninapro_DB1_raw_csv\\S21_A1_E1_exercise.csv\n",
      "Guardado: ninapro_DB1_raw_csv\\S21_A1_E1_stimulus.csv\n",
      "Guardado: ninapro_DB1_raw_csv\\S21_A1_E1_emg.csv\n",
      "Guardado: ninapro_DB1_raw_csv\\S21_A1_E1_glove.csv\n",
      "Guardado: ninapro_DB1_raw_csv\\S21_A1_E1_restimulus.csv\n",
      "Guardado: ninapro_DB1_raw_csv\\S21_A1_E1_repetition.csv\n",
      "Guardado: ninapro_DB1_raw_csv\\S21_A1_E1_rerepetition.csv\n",
      "Guardado: ninapro_DB1_raw_csv\\S21_A1_E2_subject.csv\n",
      "Guardado: ninapro_DB1_raw_csv\\S21_A1_E2_exercise.csv\n",
      "Guardado: ninapro_DB1_raw_csv\\S21_A1_E2_stimulus.csv\n",
      "Guardado: ninapro_DB1_raw_csv\\S21_A1_E2_emg.csv\n",
      "Guardado: ninapro_DB1_raw_csv\\S21_A1_E2_glove.csv\n",
      "Guardado: ninapro_DB1_raw_csv\\S21_A1_E2_restimulus.csv\n",
      "Guardado: ninapro_DB1_raw_csv\\S21_A1_E2_repetition.csv\n",
      "Guardado: ninapro_DB1_raw_csv\\S21_A1_E2_rerepetition.csv\n",
      "Guardado: ninapro_DB1_raw_csv\\S21_A1_E3_subject.csv\n",
      "Guardado: ninapro_DB1_raw_csv\\S21_A1_E3_exercise.csv\n",
      "Guardado: ninapro_DB1_raw_csv\\S21_A1_E3_stimulus.csv\n",
      "Guardado: ninapro_DB1_raw_csv\\S21_A1_E3_emg.csv\n",
      "Guardado: ninapro_DB1_raw_csv\\S21_A1_E3_glove.csv\n",
      "Guardado: ninapro_DB1_raw_csv\\S21_A1_E3_restimulus.csv\n",
      "Guardado: ninapro_DB1_raw_csv\\S21_A1_E3_repetition.csv\n",
      "Guardado: ninapro_DB1_raw_csv\\S21_A1_E3_rerepetition.csv\n",
      "Guardado: ninapro_DB1_raw_csv\\S22_A1_E1_subject.csv\n",
      "Guardado: ninapro_DB1_raw_csv\\S22_A1_E1_exercise.csv\n",
      "Guardado: ninapro_DB1_raw_csv\\S22_A1_E1_stimulus.csv\n",
      "Guardado: ninapro_DB1_raw_csv\\S22_A1_E1_emg.csv\n",
      "Guardado: ninapro_DB1_raw_csv\\S22_A1_E1_glove.csv\n",
      "Guardado: ninapro_DB1_raw_csv\\S22_A1_E1_restimulus.csv\n",
      "Guardado: ninapro_DB1_raw_csv\\S22_A1_E1_repetition.csv\n",
      "Guardado: ninapro_DB1_raw_csv\\S22_A1_E1_rerepetition.csv\n",
      "Guardado: ninapro_DB1_raw_csv\\S22_A1_E2_subject.csv\n",
      "Guardado: ninapro_DB1_raw_csv\\S22_A1_E2_exercise.csv\n",
      "Guardado: ninapro_DB1_raw_csv\\S22_A1_E2_stimulus.csv\n",
      "Guardado: ninapro_DB1_raw_csv\\S22_A1_E2_emg.csv\n",
      "Guardado: ninapro_DB1_raw_csv\\S22_A1_E2_glove.csv\n",
      "Guardado: ninapro_DB1_raw_csv\\S22_A1_E2_restimulus.csv\n",
      "Guardado: ninapro_DB1_raw_csv\\S22_A1_E2_repetition.csv\n",
      "Guardado: ninapro_DB1_raw_csv\\S22_A1_E2_rerepetition.csv\n",
      "Guardado: ninapro_DB1_raw_csv\\S22_A1_E3_subject.csv\n",
      "Guardado: ninapro_DB1_raw_csv\\S22_A1_E3_exercise.csv\n",
      "Guardado: ninapro_DB1_raw_csv\\S22_A1_E3_stimulus.csv\n",
      "Guardado: ninapro_DB1_raw_csv\\S22_A1_E3_emg.csv\n",
      "Guardado: ninapro_DB1_raw_csv\\S22_A1_E3_glove.csv\n",
      "Guardado: ninapro_DB1_raw_csv\\S22_A1_E3_restimulus.csv\n",
      "Guardado: ninapro_DB1_raw_csv\\S22_A1_E3_repetition.csv\n",
      "Guardado: ninapro_DB1_raw_csv\\S22_A1_E3_rerepetition.csv\n",
      "Guardado: ninapro_DB1_raw_csv\\S23_A1_E1_subject.csv\n",
      "Guardado: ninapro_DB1_raw_csv\\S23_A1_E1_exercise.csv\n",
      "Guardado: ninapro_DB1_raw_csv\\S23_A1_E1_stimulus.csv\n",
      "Guardado: ninapro_DB1_raw_csv\\S23_A1_E1_emg.csv\n",
      "Guardado: ninapro_DB1_raw_csv\\S23_A1_E1_glove.csv\n",
      "Guardado: ninapro_DB1_raw_csv\\S23_A1_E1_restimulus.csv\n",
      "Guardado: ninapro_DB1_raw_csv\\S23_A1_E1_repetition.csv\n",
      "Guardado: ninapro_DB1_raw_csv\\S23_A1_E1_rerepetition.csv\n",
      "Guardado: ninapro_DB1_raw_csv\\S23_A1_E2_subject.csv\n",
      "Guardado: ninapro_DB1_raw_csv\\S23_A1_E2_exercise.csv\n",
      "Guardado: ninapro_DB1_raw_csv\\S23_A1_E2_stimulus.csv\n",
      "Guardado: ninapro_DB1_raw_csv\\S23_A1_E2_emg.csv\n",
      "Guardado: ninapro_DB1_raw_csv\\S23_A1_E2_glove.csv\n",
      "Guardado: ninapro_DB1_raw_csv\\S23_A1_E2_restimulus.csv\n",
      "Guardado: ninapro_DB1_raw_csv\\S23_A1_E2_repetition.csv\n",
      "Guardado: ninapro_DB1_raw_csv\\S23_A1_E2_rerepetition.csv\n",
      "Guardado: ninapro_DB1_raw_csv\\S23_A1_E3_subject.csv\n",
      "Guardado: ninapro_DB1_raw_csv\\S23_A1_E3_exercise.csv\n",
      "Guardado: ninapro_DB1_raw_csv\\S23_A1_E3_stimulus.csv\n",
      "Guardado: ninapro_DB1_raw_csv\\S23_A1_E3_emg.csv\n",
      "Guardado: ninapro_DB1_raw_csv\\S23_A1_E3_glove.csv\n",
      "Guardado: ninapro_DB1_raw_csv\\S23_A1_E3_restimulus.csv\n",
      "Guardado: ninapro_DB1_raw_csv\\S23_A1_E3_repetition.csv\n",
      "Guardado: ninapro_DB1_raw_csv\\S23_A1_E3_rerepetition.csv\n",
      "Guardado: ninapro_DB1_raw_csv\\S24_A1_E1_subject.csv\n",
      "Guardado: ninapro_DB1_raw_csv\\S24_A1_E1_exercise.csv\n",
      "Guardado: ninapro_DB1_raw_csv\\S24_A1_E1_stimulus.csv\n",
      "Guardado: ninapro_DB1_raw_csv\\S24_A1_E1_emg.csv\n",
      "Guardado: ninapro_DB1_raw_csv\\S24_A1_E1_glove.csv\n",
      "Guardado: ninapro_DB1_raw_csv\\S24_A1_E1_restimulus.csv\n",
      "Guardado: ninapro_DB1_raw_csv\\S24_A1_E1_repetition.csv\n",
      "Guardado: ninapro_DB1_raw_csv\\S24_A1_E1_rerepetition.csv\n",
      "Guardado: ninapro_DB1_raw_csv\\S24_A1_E2_subject.csv\n",
      "Guardado: ninapro_DB1_raw_csv\\S24_A1_E2_exercise.csv\n",
      "Guardado: ninapro_DB1_raw_csv\\S24_A1_E2_stimulus.csv\n",
      "Guardado: ninapro_DB1_raw_csv\\S24_A1_E2_emg.csv\n",
      "Guardado: ninapro_DB1_raw_csv\\S24_A1_E2_glove.csv\n",
      "Guardado: ninapro_DB1_raw_csv\\S24_A1_E2_restimulus.csv\n",
      "Guardado: ninapro_DB1_raw_csv\\S24_A1_E2_repetition.csv\n",
      "Guardado: ninapro_DB1_raw_csv\\S24_A1_E2_rerepetition.csv\n",
      "Guardado: ninapro_DB1_raw_csv\\S24_A1_E3_subject.csv\n",
      "Guardado: ninapro_DB1_raw_csv\\S24_A1_E3_exercise.csv\n",
      "Guardado: ninapro_DB1_raw_csv\\S24_A1_E3_stimulus.csv\n",
      "Guardado: ninapro_DB1_raw_csv\\S24_A1_E3_emg.csv\n",
      "Guardado: ninapro_DB1_raw_csv\\S24_A1_E3_glove.csv\n",
      "Guardado: ninapro_DB1_raw_csv\\S24_A1_E3_restimulus.csv\n",
      "Guardado: ninapro_DB1_raw_csv\\S24_A1_E3_repetition.csv\n",
      "Guardado: ninapro_DB1_raw_csv\\S24_A1_E3_rerepetition.csv\n",
      "Guardado: ninapro_DB1_raw_csv\\S25_A1_E1_subject.csv\n",
      "Guardado: ninapro_DB1_raw_csv\\S25_A1_E1_exercise.csv\n",
      "Guardado: ninapro_DB1_raw_csv\\S25_A1_E1_stimulus.csv\n",
      "Guardado: ninapro_DB1_raw_csv\\S25_A1_E1_emg.csv\n",
      "Guardado: ninapro_DB1_raw_csv\\S25_A1_E1_glove.csv\n",
      "Guardado: ninapro_DB1_raw_csv\\S25_A1_E1_restimulus.csv\n",
      "Guardado: ninapro_DB1_raw_csv\\S25_A1_E1_repetition.csv\n",
      "Guardado: ninapro_DB1_raw_csv\\S25_A1_E1_rerepetition.csv\n",
      "Guardado: ninapro_DB1_raw_csv\\S25_A1_E2_subject.csv\n",
      "Guardado: ninapro_DB1_raw_csv\\S25_A1_E2_exercise.csv\n",
      "Guardado: ninapro_DB1_raw_csv\\S25_A1_E2_stimulus.csv\n",
      "Guardado: ninapro_DB1_raw_csv\\S25_A1_E2_emg.csv\n",
      "Guardado: ninapro_DB1_raw_csv\\S25_A1_E2_glove.csv\n",
      "Guardado: ninapro_DB1_raw_csv\\S25_A1_E2_restimulus.csv\n",
      "Guardado: ninapro_DB1_raw_csv\\S25_A1_E2_repetition.csv\n",
      "Guardado: ninapro_DB1_raw_csv\\S25_A1_E2_rerepetition.csv\n",
      "Guardado: ninapro_DB1_raw_csv\\S25_A1_E3_subject.csv\n",
      "Guardado: ninapro_DB1_raw_csv\\S25_A1_E3_exercise.csv\n",
      "Guardado: ninapro_DB1_raw_csv\\S25_A1_E3_stimulus.csv\n",
      "Guardado: ninapro_DB1_raw_csv\\S25_A1_E3_emg.csv\n",
      "Guardado: ninapro_DB1_raw_csv\\S25_A1_E3_glove.csv\n",
      "Guardado: ninapro_DB1_raw_csv\\S25_A1_E3_restimulus.csv\n",
      "Guardado: ninapro_DB1_raw_csv\\S25_A1_E3_repetition.csv\n",
      "Guardado: ninapro_DB1_raw_csv\\S25_A1_E3_rerepetition.csv\n",
      "Guardado: ninapro_DB1_raw_csv\\S26_A1_E1_subject.csv\n",
      "Guardado: ninapro_DB1_raw_csv\\S26_A1_E1_exercise.csv\n",
      "Guardado: ninapro_DB1_raw_csv\\S26_A1_E1_stimulus.csv\n",
      "Guardado: ninapro_DB1_raw_csv\\S26_A1_E1_emg.csv\n",
      "Guardado: ninapro_DB1_raw_csv\\S26_A1_E1_glove.csv\n",
      "Guardado: ninapro_DB1_raw_csv\\S26_A1_E1_restimulus.csv\n",
      "Guardado: ninapro_DB1_raw_csv\\S26_A1_E1_repetition.csv\n",
      "Guardado: ninapro_DB1_raw_csv\\S26_A1_E1_rerepetition.csv\n",
      "Guardado: ninapro_DB1_raw_csv\\S26_A1_E2_subject.csv\n",
      "Guardado: ninapro_DB1_raw_csv\\S26_A1_E2_exercise.csv\n",
      "Guardado: ninapro_DB1_raw_csv\\S26_A1_E2_stimulus.csv\n",
      "Guardado: ninapro_DB1_raw_csv\\S26_A1_E2_emg.csv\n",
      "Guardado: ninapro_DB1_raw_csv\\S26_A1_E2_glove.csv\n",
      "Guardado: ninapro_DB1_raw_csv\\S26_A1_E2_restimulus.csv\n",
      "Guardado: ninapro_DB1_raw_csv\\S26_A1_E2_repetition.csv\n",
      "Guardado: ninapro_DB1_raw_csv\\S26_A1_E2_rerepetition.csv\n",
      "Guardado: ninapro_DB1_raw_csv\\S26_A1_E3_subject.csv\n",
      "Guardado: ninapro_DB1_raw_csv\\S26_A1_E3_exercise.csv\n",
      "Guardado: ninapro_DB1_raw_csv\\S26_A1_E3_stimulus.csv\n",
      "Guardado: ninapro_DB1_raw_csv\\S26_A1_E3_emg.csv\n",
      "Guardado: ninapro_DB1_raw_csv\\S26_A1_E3_glove.csv\n",
      "Guardado: ninapro_DB1_raw_csv\\S26_A1_E3_restimulus.csv\n",
      "Guardado: ninapro_DB1_raw_csv\\S26_A1_E3_repetition.csv\n",
      "Guardado: ninapro_DB1_raw_csv\\S26_A1_E3_rerepetition.csv\n",
      "Guardado: ninapro_DB1_raw_csv\\S27_A1_E1_subject.csv\n",
      "Guardado: ninapro_DB1_raw_csv\\S27_A1_E1_exercise.csv\n",
      "Guardado: ninapro_DB1_raw_csv\\S27_A1_E1_stimulus.csv\n",
      "Guardado: ninapro_DB1_raw_csv\\S27_A1_E1_emg.csv\n",
      "Guardado: ninapro_DB1_raw_csv\\S27_A1_E1_glove.csv\n",
      "Guardado: ninapro_DB1_raw_csv\\S27_A1_E1_restimulus.csv\n",
      "Guardado: ninapro_DB1_raw_csv\\S27_A1_E1_repetition.csv\n",
      "Guardado: ninapro_DB1_raw_csv\\S27_A1_E1_rerepetition.csv\n",
      "Guardado: ninapro_DB1_raw_csv\\S27_A1_E2_subject.csv\n",
      "Guardado: ninapro_DB1_raw_csv\\S27_A1_E2_exercise.csv\n",
      "Guardado: ninapro_DB1_raw_csv\\S27_A1_E2_stimulus.csv\n",
      "Guardado: ninapro_DB1_raw_csv\\S27_A1_E2_emg.csv\n",
      "Guardado: ninapro_DB1_raw_csv\\S27_A1_E2_glove.csv\n",
      "Guardado: ninapro_DB1_raw_csv\\S27_A1_E2_restimulus.csv\n",
      "Guardado: ninapro_DB1_raw_csv\\S27_A1_E2_repetition.csv\n",
      "Guardado: ninapro_DB1_raw_csv\\S27_A1_E2_rerepetition.csv\n",
      "Guardado: ninapro_DB1_raw_csv\\S27_A1_E3_subject.csv\n",
      "Guardado: ninapro_DB1_raw_csv\\S27_A1_E3_exercise.csv\n",
      "Guardado: ninapro_DB1_raw_csv\\S27_A1_E3_stimulus.csv\n",
      "Guardado: ninapro_DB1_raw_csv\\S27_A1_E3_emg.csv\n",
      "Guardado: ninapro_DB1_raw_csv\\S27_A1_E3_glove.csv\n",
      "Guardado: ninapro_DB1_raw_csv\\S27_A1_E3_restimulus.csv\n",
      "Guardado: ninapro_DB1_raw_csv\\S27_A1_E3_repetition.csv\n",
      "Guardado: ninapro_DB1_raw_csv\\S27_A1_E3_rerepetition.csv\n",
      "Guardado: ninapro_DB1_raw_csv\\S3_A1_E1_subject.csv\n",
      "Guardado: ninapro_DB1_raw_csv\\S3_A1_E1_exercise.csv\n",
      "Guardado: ninapro_DB1_raw_csv\\S3_A1_E1_stimulus.csv\n",
      "Guardado: ninapro_DB1_raw_csv\\S3_A1_E1_emg.csv\n",
      "Guardado: ninapro_DB1_raw_csv\\S3_A1_E1_glove.csv\n",
      "Guardado: ninapro_DB1_raw_csv\\S3_A1_E1_restimulus.csv\n",
      "Guardado: ninapro_DB1_raw_csv\\S3_A1_E1_repetition.csv\n",
      "Guardado: ninapro_DB1_raw_csv\\S3_A1_E1_rerepetition.csv\n",
      "Guardado: ninapro_DB1_raw_csv\\S3_A1_E2_subject.csv\n",
      "Guardado: ninapro_DB1_raw_csv\\S3_A1_E2_exercise.csv\n",
      "Guardado: ninapro_DB1_raw_csv\\S3_A1_E2_stimulus.csv\n",
      "Guardado: ninapro_DB1_raw_csv\\S3_A1_E2_emg.csv\n",
      "Guardado: ninapro_DB1_raw_csv\\S3_A1_E2_glove.csv\n",
      "Guardado: ninapro_DB1_raw_csv\\S3_A1_E2_restimulus.csv\n",
      "Guardado: ninapro_DB1_raw_csv\\S3_A1_E2_repetition.csv\n",
      "Guardado: ninapro_DB1_raw_csv\\S3_A1_E2_rerepetition.csv\n",
      "Guardado: ninapro_DB1_raw_csv\\S3_A1_E3_subject.csv\n",
      "Guardado: ninapro_DB1_raw_csv\\S3_A1_E3_exercise.csv\n",
      "Guardado: ninapro_DB1_raw_csv\\S3_A1_E3_stimulus.csv\n",
      "Guardado: ninapro_DB1_raw_csv\\S3_A1_E3_emg.csv\n",
      "Guardado: ninapro_DB1_raw_csv\\S3_A1_E3_glove.csv\n",
      "Guardado: ninapro_DB1_raw_csv\\S3_A1_E3_restimulus.csv\n",
      "Guardado: ninapro_DB1_raw_csv\\S3_A1_E3_repetition.csv\n",
      "Guardado: ninapro_DB1_raw_csv\\S3_A1_E3_rerepetition.csv\n",
      "Guardado: ninapro_DB1_raw_csv\\S4_A1_E1_subject.csv\n",
      "Guardado: ninapro_DB1_raw_csv\\S4_A1_E1_exercise.csv\n",
      "Guardado: ninapro_DB1_raw_csv\\S4_A1_E1_stimulus.csv\n",
      "Guardado: ninapro_DB1_raw_csv\\S4_A1_E1_emg.csv\n",
      "Guardado: ninapro_DB1_raw_csv\\S4_A1_E1_glove.csv\n",
      "Guardado: ninapro_DB1_raw_csv\\S4_A1_E1_restimulus.csv\n",
      "Guardado: ninapro_DB1_raw_csv\\S4_A1_E1_repetition.csv\n",
      "Guardado: ninapro_DB1_raw_csv\\S4_A1_E1_rerepetition.csv\n",
      "Guardado: ninapro_DB1_raw_csv\\S4_A1_E2_subject.csv\n",
      "Guardado: ninapro_DB1_raw_csv\\S4_A1_E2_exercise.csv\n",
      "Guardado: ninapro_DB1_raw_csv\\S4_A1_E2_stimulus.csv\n",
      "Guardado: ninapro_DB1_raw_csv\\S4_A1_E2_emg.csv\n",
      "Guardado: ninapro_DB1_raw_csv\\S4_A1_E2_glove.csv\n",
      "Guardado: ninapro_DB1_raw_csv\\S4_A1_E2_restimulus.csv\n",
      "Guardado: ninapro_DB1_raw_csv\\S4_A1_E2_repetition.csv\n",
      "Guardado: ninapro_DB1_raw_csv\\S4_A1_E2_rerepetition.csv\n",
      "Guardado: ninapro_DB1_raw_csv\\S4_A1_E3_subject.csv\n",
      "Guardado: ninapro_DB1_raw_csv\\S4_A1_E3_exercise.csv\n",
      "Guardado: ninapro_DB1_raw_csv\\S4_A1_E3_stimulus.csv\n",
      "Guardado: ninapro_DB1_raw_csv\\S4_A1_E3_emg.csv\n",
      "Guardado: ninapro_DB1_raw_csv\\S4_A1_E3_glove.csv\n",
      "Guardado: ninapro_DB1_raw_csv\\S4_A1_E3_restimulus.csv\n",
      "Guardado: ninapro_DB1_raw_csv\\S4_A1_E3_repetition.csv\n",
      "Guardado: ninapro_DB1_raw_csv\\S4_A1_E3_rerepetition.csv\n",
      "Guardado: ninapro_DB1_raw_csv\\S5_A1_E1_subject.csv\n",
      "Guardado: ninapro_DB1_raw_csv\\S5_A1_E1_exercise.csv\n",
      "Guardado: ninapro_DB1_raw_csv\\S5_A1_E1_stimulus.csv\n",
      "Guardado: ninapro_DB1_raw_csv\\S5_A1_E1_emg.csv\n",
      "Guardado: ninapro_DB1_raw_csv\\S5_A1_E1_glove.csv\n",
      "Guardado: ninapro_DB1_raw_csv\\S5_A1_E1_restimulus.csv\n",
      "Guardado: ninapro_DB1_raw_csv\\S5_A1_E1_repetition.csv\n",
      "Guardado: ninapro_DB1_raw_csv\\S5_A1_E1_rerepetition.csv\n",
      "Guardado: ninapro_DB1_raw_csv\\S5_A1_E2_subject.csv\n",
      "Guardado: ninapro_DB1_raw_csv\\S5_A1_E2_exercise.csv\n",
      "Guardado: ninapro_DB1_raw_csv\\S5_A1_E2_stimulus.csv\n",
      "Guardado: ninapro_DB1_raw_csv\\S5_A1_E2_emg.csv\n",
      "Guardado: ninapro_DB1_raw_csv\\S5_A1_E2_glove.csv\n",
      "Guardado: ninapro_DB1_raw_csv\\S5_A1_E2_restimulus.csv\n",
      "Guardado: ninapro_DB1_raw_csv\\S5_A1_E2_repetition.csv\n",
      "Guardado: ninapro_DB1_raw_csv\\S5_A1_E2_rerepetition.csv\n",
      "Guardado: ninapro_DB1_raw_csv\\S5_A1_E3_subject.csv\n",
      "Guardado: ninapro_DB1_raw_csv\\S5_A1_E3_exercise.csv\n",
      "Guardado: ninapro_DB1_raw_csv\\S5_A1_E3_stimulus.csv\n",
      "Guardado: ninapro_DB1_raw_csv\\S5_A1_E3_emg.csv\n",
      "Guardado: ninapro_DB1_raw_csv\\S5_A1_E3_glove.csv\n",
      "Guardado: ninapro_DB1_raw_csv\\S5_A1_E3_restimulus.csv\n",
      "Guardado: ninapro_DB1_raw_csv\\S5_A1_E3_repetition.csv\n",
      "Guardado: ninapro_DB1_raw_csv\\S5_A1_E3_rerepetition.csv\n",
      "Guardado: ninapro_DB1_raw_csv\\S6_A1_E1_subject.csv\n",
      "Guardado: ninapro_DB1_raw_csv\\S6_A1_E1_exercise.csv\n",
      "Guardado: ninapro_DB1_raw_csv\\S6_A1_E1_stimulus.csv\n",
      "Guardado: ninapro_DB1_raw_csv\\S6_A1_E1_emg.csv\n",
      "Guardado: ninapro_DB1_raw_csv\\S6_A1_E1_glove.csv\n",
      "Guardado: ninapro_DB1_raw_csv\\S6_A1_E1_restimulus.csv\n",
      "Guardado: ninapro_DB1_raw_csv\\S6_A1_E1_repetition.csv\n",
      "Guardado: ninapro_DB1_raw_csv\\S6_A1_E1_rerepetition.csv\n",
      "Guardado: ninapro_DB1_raw_csv\\S6_A1_E2_subject.csv\n",
      "Guardado: ninapro_DB1_raw_csv\\S6_A1_E2_exercise.csv\n",
      "Guardado: ninapro_DB1_raw_csv\\S6_A1_E2_stimulus.csv\n",
      "Guardado: ninapro_DB1_raw_csv\\S6_A1_E2_emg.csv\n",
      "Guardado: ninapro_DB1_raw_csv\\S6_A1_E2_glove.csv\n",
      "Guardado: ninapro_DB1_raw_csv\\S6_A1_E2_restimulus.csv\n",
      "Guardado: ninapro_DB1_raw_csv\\S6_A1_E2_repetition.csv\n",
      "Guardado: ninapro_DB1_raw_csv\\S6_A1_E2_rerepetition.csv\n",
      "Guardado: ninapro_DB1_raw_csv\\S6_A1_E3_subject.csv\n",
      "Guardado: ninapro_DB1_raw_csv\\S6_A1_E3_exercise.csv\n",
      "Guardado: ninapro_DB1_raw_csv\\S6_A1_E3_stimulus.csv\n",
      "Guardado: ninapro_DB1_raw_csv\\S6_A1_E3_emg.csv\n",
      "Guardado: ninapro_DB1_raw_csv\\S6_A1_E3_glove.csv\n",
      "Guardado: ninapro_DB1_raw_csv\\S6_A1_E3_restimulus.csv\n",
      "Guardado: ninapro_DB1_raw_csv\\S6_A1_E3_repetition.csv\n",
      "Guardado: ninapro_DB1_raw_csv\\S6_A1_E3_rerepetition.csv\n",
      "Guardado: ninapro_DB1_raw_csv\\S7_A1_E1_subject.csv\n",
      "Guardado: ninapro_DB1_raw_csv\\S7_A1_E1_exercise.csv\n",
      "Guardado: ninapro_DB1_raw_csv\\S7_A1_E1_stimulus.csv\n",
      "Guardado: ninapro_DB1_raw_csv\\S7_A1_E1_emg.csv\n",
      "Guardado: ninapro_DB1_raw_csv\\S7_A1_E1_glove.csv\n",
      "Guardado: ninapro_DB1_raw_csv\\S7_A1_E1_restimulus.csv\n",
      "Guardado: ninapro_DB1_raw_csv\\S7_A1_E1_repetition.csv\n",
      "Guardado: ninapro_DB1_raw_csv\\S7_A1_E1_rerepetition.csv\n",
      "Guardado: ninapro_DB1_raw_csv\\S7_A1_E2_subject.csv\n",
      "Guardado: ninapro_DB1_raw_csv\\S7_A1_E2_exercise.csv\n",
      "Guardado: ninapro_DB1_raw_csv\\S7_A1_E2_stimulus.csv\n",
      "Guardado: ninapro_DB1_raw_csv\\S7_A1_E2_emg.csv\n",
      "Guardado: ninapro_DB1_raw_csv\\S7_A1_E2_glove.csv\n",
      "Guardado: ninapro_DB1_raw_csv\\S7_A1_E2_restimulus.csv\n",
      "Guardado: ninapro_DB1_raw_csv\\S7_A1_E2_repetition.csv\n",
      "Guardado: ninapro_DB1_raw_csv\\S7_A1_E2_rerepetition.csv\n",
      "Guardado: ninapro_DB1_raw_csv\\S7_A1_E3_subject.csv\n",
      "Guardado: ninapro_DB1_raw_csv\\S7_A1_E3_exercise.csv\n",
      "Guardado: ninapro_DB1_raw_csv\\S7_A1_E3_stimulus.csv\n",
      "Guardado: ninapro_DB1_raw_csv\\S7_A1_E3_emg.csv\n",
      "Guardado: ninapro_DB1_raw_csv\\S7_A1_E3_glove.csv\n",
      "Guardado: ninapro_DB1_raw_csv\\S7_A1_E3_restimulus.csv\n",
      "Guardado: ninapro_DB1_raw_csv\\S7_A1_E3_repetition.csv\n",
      "Guardado: ninapro_DB1_raw_csv\\S7_A1_E3_rerepetition.csv\n",
      "Guardado: ninapro_DB1_raw_csv\\S8_A1_E1_subject.csv\n",
      "Guardado: ninapro_DB1_raw_csv\\S8_A1_E1_exercise.csv\n",
      "Guardado: ninapro_DB1_raw_csv\\S8_A1_E1_stimulus.csv\n",
      "Guardado: ninapro_DB1_raw_csv\\S8_A1_E1_emg.csv\n",
      "Guardado: ninapro_DB1_raw_csv\\S8_A1_E1_glove.csv\n",
      "Guardado: ninapro_DB1_raw_csv\\S8_A1_E1_restimulus.csv\n",
      "Guardado: ninapro_DB1_raw_csv\\S8_A1_E1_repetition.csv\n",
      "Guardado: ninapro_DB1_raw_csv\\S8_A1_E1_rerepetition.csv\n",
      "Guardado: ninapro_DB1_raw_csv\\S8_A1_E2_subject.csv\n",
      "Guardado: ninapro_DB1_raw_csv\\S8_A1_E2_exercise.csv\n",
      "Guardado: ninapro_DB1_raw_csv\\S8_A1_E2_stimulus.csv\n",
      "Guardado: ninapro_DB1_raw_csv\\S8_A1_E2_emg.csv\n",
      "Guardado: ninapro_DB1_raw_csv\\S8_A1_E2_glove.csv\n",
      "Guardado: ninapro_DB1_raw_csv\\S8_A1_E2_restimulus.csv\n",
      "Guardado: ninapro_DB1_raw_csv\\S8_A1_E2_repetition.csv\n",
      "Guardado: ninapro_DB1_raw_csv\\S8_A1_E2_rerepetition.csv\n",
      "Guardado: ninapro_DB1_raw_csv\\S8_A1_E3_subject.csv\n",
      "Guardado: ninapro_DB1_raw_csv\\S8_A1_E3_exercise.csv\n",
      "Guardado: ninapro_DB1_raw_csv\\S8_A1_E3_stimulus.csv\n",
      "Guardado: ninapro_DB1_raw_csv\\S8_A1_E3_emg.csv\n",
      "Guardado: ninapro_DB1_raw_csv\\S8_A1_E3_glove.csv\n",
      "Guardado: ninapro_DB1_raw_csv\\S8_A1_E3_restimulus.csv\n",
      "Guardado: ninapro_DB1_raw_csv\\S8_A1_E3_repetition.csv\n",
      "Guardado: ninapro_DB1_raw_csv\\S8_A1_E3_rerepetition.csv\n",
      "Guardado: ninapro_DB1_raw_csv\\S9_A1_E1_subject.csv\n",
      "Guardado: ninapro_DB1_raw_csv\\S9_A1_E1_exercise.csv\n",
      "Guardado: ninapro_DB1_raw_csv\\S9_A1_E1_stimulus.csv\n",
      "Guardado: ninapro_DB1_raw_csv\\S9_A1_E1_emg.csv\n",
      "Guardado: ninapro_DB1_raw_csv\\S9_A1_E1_glove.csv\n",
      "Guardado: ninapro_DB1_raw_csv\\S9_A1_E1_restimulus.csv\n",
      "Guardado: ninapro_DB1_raw_csv\\S9_A1_E1_repetition.csv\n",
      "Guardado: ninapro_DB1_raw_csv\\S9_A1_E1_rerepetition.csv\n",
      "Guardado: ninapro_DB1_raw_csv\\S9_A1_E2_subject.csv\n",
      "Guardado: ninapro_DB1_raw_csv\\S9_A1_E2_exercise.csv\n",
      "Guardado: ninapro_DB1_raw_csv\\S9_A1_E2_stimulus.csv\n",
      "Guardado: ninapro_DB1_raw_csv\\S9_A1_E2_emg.csv\n",
      "Guardado: ninapro_DB1_raw_csv\\S9_A1_E2_glove.csv\n",
      "Guardado: ninapro_DB1_raw_csv\\S9_A1_E2_restimulus.csv\n",
      "Guardado: ninapro_DB1_raw_csv\\S9_A1_E2_repetition.csv\n",
      "Guardado: ninapro_DB1_raw_csv\\S9_A1_E2_rerepetition.csv\n",
      "Guardado: ninapro_DB1_raw_csv\\S9_A1_E3_subject.csv\n",
      "Guardado: ninapro_DB1_raw_csv\\S9_A1_E3_exercise.csv\n",
      "Guardado: ninapro_DB1_raw_csv\\S9_A1_E3_stimulus.csv\n",
      "Guardado: ninapro_DB1_raw_csv\\S9_A1_E3_emg.csv\n",
      "Guardado: ninapro_DB1_raw_csv\\S9_A1_E3_glove.csv\n",
      "Guardado: ninapro_DB1_raw_csv\\S9_A1_E3_restimulus.csv\n",
      "Guardado: ninapro_DB1_raw_csv\\S9_A1_E3_repetition.csv\n",
      "Guardado: ninapro_DB1_raw_csv\\S9_A1_E3_rerepetition.csv\n"
     ]
    }
   ],
   "source": [
    "input_dir = 'ninapro_DB1_raw_unzip'\n",
    "output_dir = 'ninapro_DB1_raw_csv'\n",
    "convert_mat_to_csv(input_dir, output_dir)"
   ]
  },
  {
   "cell_type": "code",
   "execution_count": 112,
   "id": "3b6a6b92",
   "metadata": {},
   "outputs": [],
   "source": [
    "from libemg.data_handler import OfflineDataHandler, RegexFilter\n",
    "\n",
    "END_SUBJECT = 1\n",
    "\n",
    "dataset_folder = 'ninapro_DB1_raw_csv'  # Carpeta donde están los archivos extraídos\n",
    "subject_values = [str(i) for i in range(1, END_SUBJECT + 1)] # Lista de sujetos a filtrar (s1 a s26)\n",
    "adquisition_values = ['1'] # Por ahora solo con la primera adquisición\n",
    "exercise_values = ['1'] # Por ahora solo con el primero ejercicio"
   ]
  },
  {
   "cell_type": "code",
   "execution_count": 113,
   "id": "e4326bd7",
   "metadata": {},
   "outputs": [
    {
     "name": "stdout",
     "output_type": "stream",
     "text": [
      "11 data files fetched out of 648 files.\n"
     ]
    }
   ],
   "source": [
    "regex_filters_emg = [\n",
    "    RegexFilter(left_bound =  dataset_folder + \"/S\", right_bound=\"\", values = subject_values, description='subject'),\n",
    "    RegexFilter(left_bound = \"_A\", right_bound=\"_E\", values = adquisition_values, description='adquisition'),\n",
    "    RegexFilter(left_bound = \"_E\", right_bound=\"_emg.csv\", values = exercise_values, description='emg')    \n",
    "]\n",
    "\n",
    "emg_odh = OfflineDataHandler()\n",
    "emg_odh.get_data(folder_location = dataset_folder, regex_filters = regex_filters_emg, delimiter=\",\")"
   ]
  },
  {
   "cell_type": "code",
   "execution_count": 114,
   "id": "bbf54227",
   "metadata": {},
   "outputs": [
    {
     "name": "stdout",
     "output_type": "stream",
     "text": [
      "11 data files fetched out of 648 files.\n"
     ]
    }
   ],
   "source": [
    "regex_filters_restimulus = [\n",
    "    RegexFilter(left_bound =  dataset_folder + \"/S\", right_bound=\"\", values = subject_values, description='subject'),\n",
    "    RegexFilter(left_bound = \"_A\", right_bound=\"_E\", values = adquisition_values, description='adquisition'),\n",
    "    RegexFilter(left_bound = \"_E\", right_bound=\"_restimulus.csv\", values = exercise_values, description='restimulus'),    \n",
    "]\n",
    "\n",
    "restimulus_odh = OfflineDataHandler()\n",
    "restimulus_odh.get_data(folder_location = dataset_folder, regex_filters = regex_filters_restimulus, delimiter=\",\")"
   ]
  },
  {
   "cell_type": "code",
   "execution_count": 115,
   "id": "a78d4c51",
   "metadata": {},
   "outputs": [
    {
     "name": "stdout",
     "output_type": "stream",
     "text": [
      "11 data files fetched out of 648 files.\n"
     ]
    }
   ],
   "source": [
    "rerepetition_regex_filters = [\n",
    "    RegexFilter(left_bound =  dataset_folder + \"/S\", right_bound=\"\", values = subject_values, description='subject'),\n",
    "    RegexFilter(left_bound = \"_A\", right_bound=\"_E\", values = adquisition_values, description='adquisition'),\n",
    "    RegexFilter(left_bound = \"_E\", right_bound=\"_rerepetition.csv\", values = exercise_values, description='rerepetition')    \n",
    "]\n",
    "\n",
    "rerepetition_odh = OfflineDataHandler()\n",
    "rerepetition_odh.get_data(folder_location = dataset_folder, regex_filters = rerepetition_regex_filters, delimiter=\",\")"
   ]
  },
  {
   "cell_type": "markdown",
   "id": "cceaac9e",
   "metadata": {},
   "source": [
    "### Sujeto 1"
   ]
  },
  {
   "cell_type": "markdown",
   "id": "14bd61d9",
   "metadata": {},
   "source": [
    "#### restimulus"
   ]
  },
  {
   "cell_type": "code",
   "execution_count": 127,
   "id": "26500d7f",
   "metadata": {},
   "outputs": [],
   "source": [
    "restimulus_odh_s1 = restimulus_odh.isolate_data('subject', [0])\n",
    "restimulus_odh_s1_data = restimulus_odh_s1.data"
   ]
  },
  {
   "cell_type": "code",
   "execution_count": 134,
   "id": "bfcc66ad",
   "metadata": {},
   "outputs": [
    {
     "name": "stdout",
     "output_type": "stream",
     "text": [
      "(100779, 1)\n",
      "(100900, 1)\n",
      "(100921, 1)\n",
      "(100949, 1)\n",
      "(100786, 1)\n",
      "(101509, 1)\n",
      "(101192, 1)\n",
      "(101676, 1)\n",
      "(101324, 1)\n",
      "(101300, 1)\n",
      "(101015, 1)\n"
     ]
    }
   ],
   "source": [
    "len(restimulus_odh_s1_data)\n",
    "for i in range(len(restimulus_odh_s1_data)):\n",
    "    print(restimulus_odh_s1_data[i].shape)"
   ]
  },
  {
   "cell_type": "code",
   "execution_count": 160,
   "id": "d6278c27",
   "metadata": {},
   "outputs": [
    {
     "data": {
      "image/png": "[encoded data removed]",
      "text/plain": [
       "<Figure size 1200x600 with 1 Axes>"
      ]
     },
     "metadata": {},
     "output_type": "display_data"
    }
   ],
   "source": [
    "plt.figure(figsize=(12, 6))\n",
    "plt.plot(restimulus_odh_s1_data[0][:10000])\n",
    "plt.title(\"Restimulus Data - Subject 1\")\n",
    "plt.xlabel(\"Samples\")\n",
    "plt.ylabel(\"Amplitude\")\n",
    "plt.grid(True)\n",
    "plt.show()"
   ]
  },
  {
   "cell_type": "code",
   "execution_count": 164,
   "id": "d9de3c22",
   "metadata": {},
   "outputs": [
    {
     "data": {
      "text/plain": [
       "12.0"
      ]
     },
     "execution_count": 164,
     "metadata": {},
     "output_type": "execute_result"
    }
   ],
   "source": [
    "restimulus_odh_s1_data[0].max()"
   ]
  },
  {
   "cell_type": "code",
   "execution_count": 167,
   "id": "100cda3b",
   "metadata": {},
   "outputs": [
    {
     "data": {
      "text/plain": [
       "0.0"
      ]
     },
     "execution_count": 167,
     "metadata": {},
     "output_type": "execute_result"
    }
   ],
   "source": [
    "restimulus_odh_s1_data[0].min()"
   ]
  },
  {
   "cell_type": "code",
   "execution_count": 139,
   "id": "5dd9e185",
   "metadata": {},
   "outputs": [],
   "source": [
    "# plt.figure(figsize=(12, 6))\n",
    "# plt.plot(restimulus_odh_s1_data[2])\n",
    "# plt.title(\"Restimulus Data - Subject 1 (Index 2)\")\n",
    "# plt.xlabel(\"Samples\")\n",
    "# plt.ylabel(\"Amplitude\")\n",
    "# plt.grid(True)\n",
    "# plt.show()"
   ]
  },
  {
   "cell_type": "markdown",
   "id": "edafe297",
   "metadata": {},
   "source": [
    "#### rerepetition"
   ]
  },
  {
   "cell_type": "code",
   "execution_count": 140,
   "id": "0e678da1",
   "metadata": {},
   "outputs": [],
   "source": [
    "rerepetition_odh_s1 = rerepetition_odh.isolate_data('subject', [0])\n",
    "rerepetition_odh_s1_data = rerepetition_odh_s1.data"
   ]
  },
  {
   "cell_type": "code",
   "execution_count": 141,
   "id": "f02ebf99",
   "metadata": {},
   "outputs": [
    {
     "name": "stdout",
     "output_type": "stream",
     "text": [
      "(100779, 1)\n",
      "(100900, 1)\n",
      "(100921, 1)\n",
      "(100949, 1)\n",
      "(100786, 1)\n",
      "(101509, 1)\n",
      "(101192, 1)\n",
      "(101676, 1)\n",
      "(101324, 1)\n",
      "(101300, 1)\n",
      "(101015, 1)\n"
     ]
    }
   ],
   "source": [
    "len(rerepetition_odh_s1_data)\n",
    "for i in range(len(rerepetition_odh_s1_data)):\n",
    "    print(rerepetition_odh_s1_data[i].shape)"
   ]
  },
  {
   "cell_type": "code",
   "execution_count": 158,
   "id": "e3dfa85d",
   "metadata": {},
   "outputs": [
    {
     "data": {
      "image/png": "[encoded data removed]",
      "text/plain": [
       "<Figure size 1200x600 with 1 Axes>"
      ]
     },
     "metadata": {},
     "output_type": "display_data"
    }
   ],
   "source": [
    "plt.figure(figsize=(12, 6))\n",
    "plt.plot(rerepetition_odh_s1_data[0][:10000])\n",
    "plt.title(\"Rerepetition Data - Subject 1\")\n",
    "plt.xlabel(\"Samples\")\n",
    "plt.ylabel(\"Amplitude\")\n",
    "plt.grid(True)\n",
    "plt.show()"
   ]
  },
  {
   "cell_type": "code",
   "execution_count": 165,
   "id": "cfe26dfc",
   "metadata": {},
   "outputs": [
    {
     "data": {
      "text/plain": [
       "10.0"
      ]
     },
     "execution_count": 165,
     "metadata": {},
     "output_type": "execute_result"
    }
   ],
   "source": [
    "rerepetition_odh_s1_data[0].max()"
   ]
  },
  {
   "cell_type": "code",
   "execution_count": 166,
   "id": "c5cd21f2",
   "metadata": {},
   "outputs": [
    {
     "data": {
      "text/plain": [
       "0.0"
      ]
     },
     "execution_count": 166,
     "metadata": {},
     "output_type": "execute_result"
    }
   ],
   "source": [
    "rerepetition_odh_s1_data[0].min()"
   ]
  },
  {
   "cell_type": "code",
   "execution_count": 173,
   "id": "5db7b1c4",
   "metadata": {},
   "outputs": [],
   "source": [
    "emg_odh_s1 = emg_odh.isolate_data('subject', [0])\n",
    "emg_odh_s1_data = emg_odh_s1.data"
   ]
  },
  {
   "cell_type": "code",
   "execution_count": 174,
   "id": "465add9a",
   "metadata": {},
   "outputs": [
    {
     "data": {
      "image/png": "[encoded data removed]",
      "text/plain": [
       "<Figure size 1200x600 with 1 Axes>"
      ]
     },
     "metadata": {},
     "output_type": "display_data"
    }
   ],
   "source": [
    "plt.figure(figsize=(12, 6))\n",
    "plt.plot(emg_odh_s1_data[1][:10000])  \n",
    "plt.title(\"EMG Data - Subject 1\")\n",
    "plt.xlabel(\"Samples\")\n",
    "plt.ylabel(\"Amplitude\")\n",
    "plt.grid(True)\n",
    "plt.show()"
   ]
  },
  {
   "cell_type": "code",
   "execution_count": null,
   "id": "6d794643",
   "metadata": {},
   "outputs": [
    {
     "data": {
      "text/plain": [
       "11"
      ]
     },
     "execution_count": 175,
     "metadata": {},
     "output_type": "execute_result"
    }
   ],
   "source": [
    "len(emg_odh_s1_data)"
   ]
  },
  {
   "cell_type": "code",
   "execution_count": 177,
   "id": "4ac504e5",
   "metadata": {},
   "outputs": [
    {
     "data": {
      "text/plain": [
       "(100779, 10)"
      ]
     },
     "execution_count": 177,
     "metadata": {},
     "output_type": "execute_result"
    }
   ],
   "source": [
    "emg_odh_s1_data[0].shape"
   ]
  },
  {
   "cell_type": "code",
   "execution_count": 168,
   "id": "2f6e234f",
   "metadata": {},
   "outputs": [
    {
     "ename": "IndexError",
     "evalue": "list index out of range",
     "output_type": "error",
     "traceback": [
      "\u001b[1;31m---------------------------------------------------------------------------\u001b[0m",
      "\u001b[1;31mIndexError\u001b[0m                                Traceback (most recent call last)",
      "Cell \u001b[1;32mIn[168], line 7\u001b[0m\n\u001b[0;32m      3\u001b[0m \u001b[38;5;66;03m#type(emg_odh_s1)\u001b[39;00m\n\u001b[0;32m      4\u001b[0m \u001b[38;5;66;03m#len(emg_odh_s1.data)\u001b[39;00m\n\u001b[0;32m      6\u001b[0m num_channels \u001b[38;5;241m=\u001b[39m \u001b[38;5;28mlen\u001b[39m(emg_odh_s1_data)\n\u001b[1;32m----> 7\u001b[0m num_samples \u001b[38;5;241m=\u001b[39m emg_odh_s1_data[\u001b[38;5;241m0\u001b[39m]\u001b[38;5;241m.\u001b[39mshape[\u001b[38;5;241m0\u001b[39m]\n\u001b[0;32m      8\u001b[0m \u001b[38;5;28mprint\u001b[39m(\u001b[38;5;124mf\u001b[39m\u001b[38;5;124m\"\u001b[39m\u001b[38;5;124mNumero de sujetos: \u001b[39m\u001b[38;5;132;01m{\u001b[39;00m(num_channels)\u001b[38;5;132;01m}\u001b[39;00m\u001b[38;5;124m\"\u001b[39m)\n\u001b[0;32m      9\u001b[0m \u001b[38;5;28mprint\u001b[39m(\u001b[38;5;124mf\u001b[39m\u001b[38;5;124m\"\u001b[39m\u001b[38;5;124mNumero de muestras: \u001b[39m\u001b[38;5;132;01m{\u001b[39;00m(num_samples)\u001b[38;5;132;01m}\u001b[39;00m\u001b[38;5;124m\"\u001b[39m)\n",
      "\u001b[1;31mIndexError\u001b[0m: list index out of range"
     ]
    }
   ],
   "source": [
    "emg_odh_s1 = emg_odh.isolate_data('subject', [1])\n",
    "emg_odh_s1_data = emg_odh_s1.data\n",
    "#type(emg_odh_s1)\n",
    "#len(emg_odh_s1.data)\n",
    "\n",
    "num_channels = len(emg_odh_s1_data)\n",
    "num_samples = emg_odh_s1_data[0].shape[0]\n",
    "print(f\"Numero de sujetos: {(num_channels)}\")\n",
    "print(f\"Numero de muestras: {(num_samples)}\")"
   ]
  },
  {
   "cell_type": "code",
   "execution_count": 39,
   "id": "e8b68683",
   "metadata": {},
   "outputs": [
    {
     "name": "stdout",
     "output_type": "stream",
     "text": [
      "22 data files fetched out of 648 files.\n"
     ]
    }
   ],
   "source": [
    "odh = OfflineDataHandler()\n",
    "odh.get_data(folder_location=dataset_folder, regex_filters=regex_filters, delimiter=\",\")"
   ]
  },
  {
   "cell_type": "code",
   "execution_count": null,
   "id": "04fd0356",
   "metadata": {},
   "outputs": [
    {
     "data": {
      "text/plain": [
       "libemg.data_handler.OfflineDataHandler"
      ]
     },
     "execution_count": 148,
     "metadata": {},
     "output_type": "execute_result"
    }
   ],
   "source": [
    "type(odh)"
   ]
  },
  {
   "cell_type": "code",
   "execution_count": null,
   "id": "a40be259",
   "metadata": {},
   "outputs": [
    {
     "data": {
      "text/plain": [
       "['__add__',\n",
       " '__class__',\n",
       " '__delattr__',\n",
       " '__dict__',\n",
       " '__dir__',\n",
       " '__doc__',\n",
       " '__eq__',\n",
       " '__format__',\n",
       " '__ge__',\n",
       " '__getattribute__',\n",
       " '__getstate__',\n",
       " '__gt__',\n",
       " '__hash__',\n",
       " '__init__',\n",
       " '__init_subclass__',\n",
       " '__le__',\n",
       " '__lt__',\n",
       " '__module__',\n",
       " '__ne__',\n",
       " '__new__',\n",
       " '__reduce__',\n",
       " '__reduce_ex__',\n",
       " '__repr__',\n",
       " '__setattr__',\n",
       " '__sizeof__',\n",
       " '__slotnames__',\n",
       " '__str__',\n",
       " '__subclasshook__',\n",
       " '__weakref__',\n",
       " '_get_max_value',\n",
       " '_get_min_value',\n",
       " '_get_num_channels',\n",
       " '_get_resolution',\n",
       " '_get_sampling_rate',\n",
       " '_isolate_data_helper',\n",
       " '_parse_windows_helper',\n",
       " 'active_threshold',\n",
       " 'data',\n",
       " 'extra_attributes',\n",
       " 'get_data',\n",
       " 'isolate_channels',\n",
       " 'isolate_data',\n",
       " 'parse_windows',\n",
       " 'visualize']"
      ]
     },
     "execution_count": 149,
     "metadata": {},
     "output_type": "execute_result"
    }
   ],
   "source": [
    "dir(odh)"
   ]
  },
  {
   "cell_type": "code",
   "execution_count": null,
   "id": "0b0eb9ca",
   "metadata": {},
   "outputs": [
    {
     "data": {
      "text/plain": [
       "9"
      ]
     },
     "execution_count": 143,
     "metadata": {},
     "output_type": "execute_result"
    }
   ],
   "source": [
    "odh_s1 = odh.isolate_data('subject', [1])\n",
    "type(odh_s1)\n",
    "len(odh_s1.data)"
   ]
  },
  {
   "cell_type": "code",
   "execution_count": null,
   "id": "0ba1d473",
   "metadata": {},
   "outputs": [
    {
     "data": {
      "text/plain": [
       "libemg.data_handler.OfflineDataHandler"
      ]
     },
     "execution_count": 134,
     "metadata": {},
     "output_type": "execute_result"
    }
   ],
   "source": [
    "odh_s1_rep1_ex1 = odh_s1_rep1.isolate_data('exercise', [1])\n",
    "type(odh_s1_rep1_ex1)"
   ]
  },
  {
   "cell_type": "code",
   "execution_count": null,
   "id": "b0ba5ca7",
   "metadata": {},
   "outputs": [
    {
     "data": {
      "text/plain": [
       "[]"
      ]
     },
     "execution_count": 135,
     "metadata": {},
     "output_type": "execute_result"
    }
   ],
   "source": [
    "odh_s1_rep1_ex1.data"
   ]
  },
  {
   "cell_type": "code",
   "execution_count": null,
   "id": "7b0d75c8",
   "metadata": {},
   "outputs": [
    {
     "ename": "TypeError",
     "evalue": "object of type 'OfflineDataHandler' has no len()",
     "output_type": "error",
     "traceback": [
      "\u001b[1;31m---------------------------------------------------------------------------\u001b[0m",
      "\u001b[1;31mTypeError\u001b[0m                                 Traceback (most recent call last)",
      "Cell \u001b[1;32mIn[122], line 1\u001b[0m\n\u001b[1;32m----> 1\u001b[0m num_channels \u001b[38;5;241m=\u001b[39m \u001b[38;5;28mlen\u001b[39m(emg_s1_rep1_ex1)\n",
      "\u001b[1;31mTypeError\u001b[0m: object of type 'OfflineDataHandler' has no len()"
     ]
    }
   ],
   "source": [
    "num_channels = len(emg_s1_rep1_ex1)\n",
    "#num_samples = emg_s1_rep1_ex1[1].shape[0]\n",
    "#print(f\"Numero de sujetos: {(num_channels)}\")\n",
    "#print(f\"Numero de muestras: {(num_samples)}\")"
   ]
  },
  {
   "cell_type": "code",
   "execution_count": null,
   "id": "cd9e7514",
   "metadata": {},
   "outputs": [
    {
     "name": "stdout",
     "output_type": "stream",
     "text": [
      "Numero de sujetos: 9\n",
      "Numero de muestras: 101733\n"
     ]
    }
   ],
   "source": [
    "num_channels = len(emg_s1)\n",
    "num_samples = emg_s1[1].shape[0]\n",
    "print(f\"Numero de sujetos: {(num_channels)}\")\n",
    "print(f\"Numero de muestras: {(num_samples)}\")"
   ]
  },
  {
   "cell_type": "markdown",
   "id": "a843f70c",
   "metadata": {},
   "source": [
    "Ahora obtengamos las muestras del canal 1"
   ]
  },
  {
   "cell_type": "code",
   "execution_count": null,
   "id": "58e636fe",
   "metadata": {},
   "outputs": [
    {
     "data": {
      "text/plain": [
       "(101566, 10)"
      ]
     },
     "execution_count": 111,
     "metadata": {},
     "output_type": "execute_result"
    }
   ],
   "source": [
    "CHANNEL = 1\n",
    "CHANNEL_INDEX = CHANNEL - 1\n",
    "emg_s1_ch0 = emg_s1[CHANNEL_INDEX]\n",
    "emg_s1_ch0.shape"
   ]
  },
  {
   "cell_type": "code",
   "execution_count": null,
   "id": "9ad21753",
   "metadata": {},
   "outputs": [
    {
     "name": "stdout",
     "output_type": "stream",
     "text": [
      "9\n",
      "(101566, 10)\n"
     ]
    }
   ],
   "source": [
    "# Cada canal es un elemento de la lista\n",
    "print(len(odh_s1.data)) # Datos de todos los canales para el sujeto 1\n",
    "print(odh_s1.data[0].shape)"
   ]
  },
  {
   "cell_type": "code",
   "execution_count": null,
   "id": "e02854bb",
   "metadata": {},
   "outputs": [
    {
     "data": {
      "image/png": "[encoded data removed]",
      "text/plain": [
       "<Figure size 1200x600 with 1 Axes>"
      ]
     },
     "metadata": {},
     "output_type": "display_data"
    }
   ],
   "source": [
    "plt.figure(figsize=(12, 6))\n",
    "plt.plot(emg_s1_ch0)\n",
    "plt.title(\"EMG Signal - Channel 1\")\n",
    "plt.xlabel(\"Samples\")\n",
    "plt.ylabel(\"Amplitude\")\n",
    "plt.grid(True)\n",
    "plt.show()"
   ]
  },
  {
   "cell_type": "code",
   "execution_count": null,
   "id": "92e4162b",
   "metadata": {},
   "outputs": [
    {
     "name": "stdout",
     "output_type": "stream",
     "text": [
      "60 data files fetched out of 61 files.\n"
     ]
    }
   ],
   "source": [
    "from libemg.datasets import OneSubjectMyoDataset\n",
    "\n",
    "WINDOW_SIZE = 20\n",
    "WINDOW_INCREMENT = 10 \n",
    "FEATURE_SET = \"HTD\"\n",
    "\n",
    "# Load in dataset\n",
    "dataset = OneSubjectMyoDataset()\n",
    "data = dataset.prepare_data()"
   ]
  },
  {
   "cell_type": "code",
   "execution_count": null,
   "id": "168b02a5",
   "metadata": {},
   "outputs": [
    {
     "data": {
      "text/plain": [
       "{'All': <libemg.data_handler.OfflineDataHandler at 0x1cd89e6a5d0>,\n",
       " 'Train': <libemg.data_handler.OfflineDataHandler at 0x1cd88fd4380>,\n",
       " 'Test': <libemg.data_handler.OfflineDataHandler at 0x1cd89e61820>}"
      ]
     },
     "execution_count": 48,
     "metadata": {},
     "output_type": "execute_result"
    }
   ],
   "source": [
    "data"
   ]
  },
  {
   "cell_type": "code",
   "execution_count": null,
   "id": "7f05d417",
   "metadata": {},
   "outputs": [],
   "source": []
  }
 ],
 "metadata": {
  "kernelspec": {
   "display_name": "base",
   "language": "python",
   "name": "python3"
  },
  "language_info": {
   "codemirror_mode": {
    "name": "ipython",
    "version": 3
   },
   "file_extension": ".py",
   "mimetype": "text/x-python",
   "name": "python",
   "nbconvert_exporter": "python",
   "pygments_lexer": "ipython3",
   "version": "3.12.7"
  }
 },
 "nbformat": 4,
 "nbformat_minor": 5
}
