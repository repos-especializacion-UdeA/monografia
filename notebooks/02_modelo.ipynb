{
 "cells": [
  {
   "cell_type": "markdown",
   "metadata": {},
   "source": [
    "## Notebook de modelado\n",
    "\n",
    "1. Carga y preparación de datos desde data/processed/\n",
    "2. Entrenamiento del modelo con funciones de src/models/\n",
    "3. Evaluación y visualización de resultados"
   ]
  }
 ],
 "metadata": {
  "language_info": {
   "name": "python"
  }
 },
 "nbformat": 4,
 "nbformat_minor": 2
}
