{
 "cells": [
  {
   "cell_type": "markdown",
   "metadata": {},
   "source": [
    "## Notebook de exploración de datos\n",
    "1. Carga del dataset desde data/raw/\n",
    "2. Limpieza de datos usando funciones de src/features/\n",
    "3. Estadísticas descriptivas y visualizaciones"
   ]
  }
 ],
 "metadata": {
  "language_info": {
   "name": "python"
  }
 },
 "nbformat": 4,
 "nbformat_minor": 2
}
